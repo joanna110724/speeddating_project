{
 "cells": [
  {
   "cell_type": "markdown",
   "id": "6c778e7e-063a-401d-980f-2539b808ab37",
   "metadata": {},
   "source": [
    "# Speed Dating Analysis Report\n",
    "##### Avery Frere(40643660), Miki Kimura (27204544), Joanna (13302518)\n",
    "<img src=\"https://images.seattletimes.com/wp-content/uploads/2018/12/speeddating-1205-RGB-1.jpg?d=1200x630\" width = \"600\"/>\n",
    "\n",
    "Source: https://www.seattletimes.com/life/lifestyle/speed-dating-in-the-age-of-swiping-the-irl-dating-trend-is-still-ringing-bells/\n",
    "\n",
    "#### Can we predict whether two heterosexual people matched or not based on 6 attributes after 4 minutes of speed dating? \n",
    "\n",
    "### Introduction:\n",
    "\"Speed dating\" is a matchmaking process that involves two people getting to know one another within a very short time frame (usually less than 10 minutes), and then switching to another person once the time is up. This speedy and energetic approach to meeting other single people may result in a match between two individuals where they both choose to pursue dating. But what factors influence whether or not two people match? <b> Is there a way to predict whether two people will match or not in a speed date based on certain attributes? </b> \n",
    "The Speed Dating dataset posted by Ulrik Thyge Pedersen gathered data from participants in a four-minute speed dating experiment where they were asked to rate their date on six different attributes: attractiveness, sincerity, intelligence, humour, ambition, and shared interests. Using this data, we will attempt to predict whether or not two people will match based on these attributes."
   ]
  },
  {
   "cell_type": "code",
   "execution_count": 1,
   "id": "4628e9f2-c357-49f8-ae3a-12fca0e95580",
   "metadata": {},
   "outputs": [],
   "source": [
    "#Run this cell to import program\n",
    "import altair as alt\n",
    "import pandas as pd\n",
    "import numpy as np\n",
    "import seaborn as sns\n",
    "import matplotlib.pyplot as plt\n",
    "%matplotlib inline\n",
    "import sklearn\n",
    "from sklearn.compose import make_column_transformer\n",
    "from sklearn.metrics.pairwise import euclidean_distances\n",
    "from sklearn.neighbors import KNeighborsClassifier\n",
    "from sklearn.pipeline import Pipeline, make_pipeline\n",
    "from sklearn.preprocessing import OneHotEncoder, StandardScaler\n",
    "from sklearn.model_selection import GridSearchCV, cross_validate, train_test_split"
   ]
  },
  {
   "cell_type": "markdown",
   "id": "6456a3f7-3d8b-49cd-a3cb-e0ebbf6b8ed1",
   "metadata": {},
   "source": [
    "#### Speed Dating Dataframe\n",
    "\n",
    "To begin, we read in the raw data."
   ]
  },
  {
   "cell_type": "code",
   "execution_count": 28,
   "id": "b9cb0691-9acc-4445-97c3-66f90682fbc7",
   "metadata": {},
   "outputs": [
    {
     "data": {
      "text/html": [
       "<style type=\"text/css\">\n",
       "</style>\n",
       "<table id=\"T_e5764\">\n",
       "  <caption>Table 1: Initial reading of data</caption>\n",
       "  <thead>\n",
       "    <tr>\n",
       "      <th class=\"blank level0\" >&nbsp;</th>\n",
       "      <th id=\"T_e5764_level0_col0\" class=\"col_heading level0 col0\" >has_null</th>\n",
       "      <th id=\"T_e5764_level0_col1\" class=\"col_heading level0 col1\" >wave</th>\n",
       "      <th id=\"T_e5764_level0_col2\" class=\"col_heading level0 col2\" >gender</th>\n",
       "      <th id=\"T_e5764_level0_col3\" class=\"col_heading level0 col3\" >age</th>\n",
       "      <th id=\"T_e5764_level0_col4\" class=\"col_heading level0 col4\" >age_o</th>\n",
       "      <th id=\"T_e5764_level0_col5\" class=\"col_heading level0 col5\" >d_age</th>\n",
       "      <th id=\"T_e5764_level0_col6\" class=\"col_heading level0 col6\" >d_d_age</th>\n",
       "      <th id=\"T_e5764_level0_col7\" class=\"col_heading level0 col7\" >race</th>\n",
       "      <th id=\"T_e5764_level0_col8\" class=\"col_heading level0 col8\" >race_o</th>\n",
       "      <th id=\"T_e5764_level0_col9\" class=\"col_heading level0 col9\" >samerace</th>\n",
       "      <th id=\"T_e5764_level0_col10\" class=\"col_heading level0 col10\" >importance_same_race</th>\n",
       "      <th id=\"T_e5764_level0_col11\" class=\"col_heading level0 col11\" >importance_same_religion</th>\n",
       "      <th id=\"T_e5764_level0_col12\" class=\"col_heading level0 col12\" >d_importance_same_race</th>\n",
       "      <th id=\"T_e5764_level0_col13\" class=\"col_heading level0 col13\" >d_importance_same_religion</th>\n",
       "      <th id=\"T_e5764_level0_col14\" class=\"col_heading level0 col14\" >field</th>\n",
       "      <th id=\"T_e5764_level0_col15\" class=\"col_heading level0 col15\" >pref_o_attractive</th>\n",
       "      <th id=\"T_e5764_level0_col16\" class=\"col_heading level0 col16\" >pref_o_sincere</th>\n",
       "      <th id=\"T_e5764_level0_col17\" class=\"col_heading level0 col17\" >pref_o_intelligence</th>\n",
       "      <th id=\"T_e5764_level0_col18\" class=\"col_heading level0 col18\" >pref_o_funny</th>\n",
       "      <th id=\"T_e5764_level0_col19\" class=\"col_heading level0 col19\" >pref_o_ambitious</th>\n",
       "      <th id=\"T_e5764_level0_col20\" class=\"col_heading level0 col20\" >pref_o_shared_interests</th>\n",
       "      <th id=\"T_e5764_level0_col21\" class=\"col_heading level0 col21\" >d_pref_o_attractive</th>\n",
       "      <th id=\"T_e5764_level0_col22\" class=\"col_heading level0 col22\" >d_pref_o_sincere</th>\n",
       "      <th id=\"T_e5764_level0_col23\" class=\"col_heading level0 col23\" >d_pref_o_intelligence</th>\n",
       "      <th id=\"T_e5764_level0_col24\" class=\"col_heading level0 col24\" >d_pref_o_funny</th>\n",
       "      <th id=\"T_e5764_level0_col25\" class=\"col_heading level0 col25\" >d_pref_o_ambitious</th>\n",
       "      <th id=\"T_e5764_level0_col26\" class=\"col_heading level0 col26\" >d_pref_o_shared_interests</th>\n",
       "      <th id=\"T_e5764_level0_col27\" class=\"col_heading level0 col27\" >attractive_o</th>\n",
       "      <th id=\"T_e5764_level0_col28\" class=\"col_heading level0 col28\" >sinsere_o</th>\n",
       "      <th id=\"T_e5764_level0_col29\" class=\"col_heading level0 col29\" >intelligence_o</th>\n",
       "      <th id=\"T_e5764_level0_col30\" class=\"col_heading level0 col30\" >funny_o</th>\n",
       "      <th id=\"T_e5764_level0_col31\" class=\"col_heading level0 col31\" >ambitous_o</th>\n",
       "      <th id=\"T_e5764_level0_col32\" class=\"col_heading level0 col32\" >shared_interests_o</th>\n",
       "      <th id=\"T_e5764_level0_col33\" class=\"col_heading level0 col33\" >d_attractive_o</th>\n",
       "      <th id=\"T_e5764_level0_col34\" class=\"col_heading level0 col34\" >d_sinsere_o</th>\n",
       "      <th id=\"T_e5764_level0_col35\" class=\"col_heading level0 col35\" >d_intelligence_o</th>\n",
       "      <th id=\"T_e5764_level0_col36\" class=\"col_heading level0 col36\" >d_funny_o</th>\n",
       "      <th id=\"T_e5764_level0_col37\" class=\"col_heading level0 col37\" >d_ambitous_o</th>\n",
       "      <th id=\"T_e5764_level0_col38\" class=\"col_heading level0 col38\" >d_shared_interests_o</th>\n",
       "      <th id=\"T_e5764_level0_col39\" class=\"col_heading level0 col39\" >attractive_important</th>\n",
       "      <th id=\"T_e5764_level0_col40\" class=\"col_heading level0 col40\" >sincere_important</th>\n",
       "      <th id=\"T_e5764_level0_col41\" class=\"col_heading level0 col41\" >intellicence_important</th>\n",
       "      <th id=\"T_e5764_level0_col42\" class=\"col_heading level0 col42\" >funny_important</th>\n",
       "      <th id=\"T_e5764_level0_col43\" class=\"col_heading level0 col43\" >ambtition_important</th>\n",
       "      <th id=\"T_e5764_level0_col44\" class=\"col_heading level0 col44\" >shared_interests_important</th>\n",
       "      <th id=\"T_e5764_level0_col45\" class=\"col_heading level0 col45\" >d_attractive_important</th>\n",
       "      <th id=\"T_e5764_level0_col46\" class=\"col_heading level0 col46\" >d_sincere_important</th>\n",
       "      <th id=\"T_e5764_level0_col47\" class=\"col_heading level0 col47\" >d_intellicence_important</th>\n",
       "      <th id=\"T_e5764_level0_col48\" class=\"col_heading level0 col48\" >d_funny_important</th>\n",
       "      <th id=\"T_e5764_level0_col49\" class=\"col_heading level0 col49\" >d_ambtition_important</th>\n",
       "      <th id=\"T_e5764_level0_col50\" class=\"col_heading level0 col50\" >d_shared_interests_important</th>\n",
       "      <th id=\"T_e5764_level0_col51\" class=\"col_heading level0 col51\" >attractive</th>\n",
       "      <th id=\"T_e5764_level0_col52\" class=\"col_heading level0 col52\" >sincere</th>\n",
       "      <th id=\"T_e5764_level0_col53\" class=\"col_heading level0 col53\" >intelligence</th>\n",
       "      <th id=\"T_e5764_level0_col54\" class=\"col_heading level0 col54\" >funny</th>\n",
       "      <th id=\"T_e5764_level0_col55\" class=\"col_heading level0 col55\" >ambition</th>\n",
       "      <th id=\"T_e5764_level0_col56\" class=\"col_heading level0 col56\" >d_attractive</th>\n",
       "      <th id=\"T_e5764_level0_col57\" class=\"col_heading level0 col57\" >d_sincere</th>\n",
       "      <th id=\"T_e5764_level0_col58\" class=\"col_heading level0 col58\" >d_intelligence</th>\n",
       "      <th id=\"T_e5764_level0_col59\" class=\"col_heading level0 col59\" >d_funny</th>\n",
       "      <th id=\"T_e5764_level0_col60\" class=\"col_heading level0 col60\" >d_ambition</th>\n",
       "      <th id=\"T_e5764_level0_col61\" class=\"col_heading level0 col61\" >attractive_partner</th>\n",
       "      <th id=\"T_e5764_level0_col62\" class=\"col_heading level0 col62\" >sincere_partner</th>\n",
       "      <th id=\"T_e5764_level0_col63\" class=\"col_heading level0 col63\" >intelligence_partner</th>\n",
       "      <th id=\"T_e5764_level0_col64\" class=\"col_heading level0 col64\" >funny_partner</th>\n",
       "      <th id=\"T_e5764_level0_col65\" class=\"col_heading level0 col65\" >ambition_partner</th>\n",
       "      <th id=\"T_e5764_level0_col66\" class=\"col_heading level0 col66\" >shared_interests_partner</th>\n",
       "      <th id=\"T_e5764_level0_col67\" class=\"col_heading level0 col67\" >d_attractive_partner</th>\n",
       "      <th id=\"T_e5764_level0_col68\" class=\"col_heading level0 col68\" >d_sincere_partner</th>\n",
       "      <th id=\"T_e5764_level0_col69\" class=\"col_heading level0 col69\" >d_intelligence_partner</th>\n",
       "      <th id=\"T_e5764_level0_col70\" class=\"col_heading level0 col70\" >d_funny_partner</th>\n",
       "      <th id=\"T_e5764_level0_col71\" class=\"col_heading level0 col71\" >d_ambition_partner</th>\n",
       "      <th id=\"T_e5764_level0_col72\" class=\"col_heading level0 col72\" >d_shared_interests_partner</th>\n",
       "      <th id=\"T_e5764_level0_col73\" class=\"col_heading level0 col73\" >sports</th>\n",
       "      <th id=\"T_e5764_level0_col74\" class=\"col_heading level0 col74\" >tvsports</th>\n",
       "      <th id=\"T_e5764_level0_col75\" class=\"col_heading level0 col75\" >exercise</th>\n",
       "      <th id=\"T_e5764_level0_col76\" class=\"col_heading level0 col76\" >dining</th>\n",
       "      <th id=\"T_e5764_level0_col77\" class=\"col_heading level0 col77\" >museums</th>\n",
       "      <th id=\"T_e5764_level0_col78\" class=\"col_heading level0 col78\" >art</th>\n",
       "      <th id=\"T_e5764_level0_col79\" class=\"col_heading level0 col79\" >hiking</th>\n",
       "      <th id=\"T_e5764_level0_col80\" class=\"col_heading level0 col80\" >gaming</th>\n",
       "      <th id=\"T_e5764_level0_col81\" class=\"col_heading level0 col81\" >clubbing</th>\n",
       "      <th id=\"T_e5764_level0_col82\" class=\"col_heading level0 col82\" >reading</th>\n",
       "      <th id=\"T_e5764_level0_col83\" class=\"col_heading level0 col83\" >tv</th>\n",
       "      <th id=\"T_e5764_level0_col84\" class=\"col_heading level0 col84\" >theater</th>\n",
       "      <th id=\"T_e5764_level0_col85\" class=\"col_heading level0 col85\" >movies</th>\n",
       "      <th id=\"T_e5764_level0_col86\" class=\"col_heading level0 col86\" >concerts</th>\n",
       "      <th id=\"T_e5764_level0_col87\" class=\"col_heading level0 col87\" >music</th>\n",
       "      <th id=\"T_e5764_level0_col88\" class=\"col_heading level0 col88\" >shopping</th>\n",
       "      <th id=\"T_e5764_level0_col89\" class=\"col_heading level0 col89\" >yoga</th>\n",
       "      <th id=\"T_e5764_level0_col90\" class=\"col_heading level0 col90\" >d_sports</th>\n",
       "      <th id=\"T_e5764_level0_col91\" class=\"col_heading level0 col91\" >d_tvsports</th>\n",
       "      <th id=\"T_e5764_level0_col92\" class=\"col_heading level0 col92\" >d_exercise</th>\n",
       "      <th id=\"T_e5764_level0_col93\" class=\"col_heading level0 col93\" >d_dining</th>\n",
       "      <th id=\"T_e5764_level0_col94\" class=\"col_heading level0 col94\" >d_museums</th>\n",
       "      <th id=\"T_e5764_level0_col95\" class=\"col_heading level0 col95\" >d_art</th>\n",
       "      <th id=\"T_e5764_level0_col96\" class=\"col_heading level0 col96\" >d_hiking</th>\n",
       "      <th id=\"T_e5764_level0_col97\" class=\"col_heading level0 col97\" >d_gaming</th>\n",
       "      <th id=\"T_e5764_level0_col98\" class=\"col_heading level0 col98\" >d_clubbing</th>\n",
       "      <th id=\"T_e5764_level0_col99\" class=\"col_heading level0 col99\" >d_reading</th>\n",
       "      <th id=\"T_e5764_level0_col100\" class=\"col_heading level0 col100\" >d_tv</th>\n",
       "      <th id=\"T_e5764_level0_col101\" class=\"col_heading level0 col101\" >d_theater</th>\n",
       "      <th id=\"T_e5764_level0_col102\" class=\"col_heading level0 col102\" >d_movies</th>\n",
       "      <th id=\"T_e5764_level0_col103\" class=\"col_heading level0 col103\" >d_concerts</th>\n",
       "      <th id=\"T_e5764_level0_col104\" class=\"col_heading level0 col104\" >d_music</th>\n",
       "      <th id=\"T_e5764_level0_col105\" class=\"col_heading level0 col105\" >d_shopping</th>\n",
       "      <th id=\"T_e5764_level0_col106\" class=\"col_heading level0 col106\" >d_yoga</th>\n",
       "      <th id=\"T_e5764_level0_col107\" class=\"col_heading level0 col107\" >interests_correlate</th>\n",
       "      <th id=\"T_e5764_level0_col108\" class=\"col_heading level0 col108\" >d_interests_correlate</th>\n",
       "      <th id=\"T_e5764_level0_col109\" class=\"col_heading level0 col109\" >expected_happy_with_sd_people</th>\n",
       "      <th id=\"T_e5764_level0_col110\" class=\"col_heading level0 col110\" >expected_num_interested_in_me</th>\n",
       "      <th id=\"T_e5764_level0_col111\" class=\"col_heading level0 col111\" >expected_num_matches</th>\n",
       "      <th id=\"T_e5764_level0_col112\" class=\"col_heading level0 col112\" >d_expected_happy_with_sd_people</th>\n",
       "      <th id=\"T_e5764_level0_col113\" class=\"col_heading level0 col113\" >d_expected_num_interested_in_me</th>\n",
       "      <th id=\"T_e5764_level0_col114\" class=\"col_heading level0 col114\" >d_expected_num_matches</th>\n",
       "      <th id=\"T_e5764_level0_col115\" class=\"col_heading level0 col115\" >like</th>\n",
       "      <th id=\"T_e5764_level0_col116\" class=\"col_heading level0 col116\" >guess_prob_liked</th>\n",
       "      <th id=\"T_e5764_level0_col117\" class=\"col_heading level0 col117\" >d_like</th>\n",
       "      <th id=\"T_e5764_level0_col118\" class=\"col_heading level0 col118\" >d_guess_prob_liked</th>\n",
       "      <th id=\"T_e5764_level0_col119\" class=\"col_heading level0 col119\" >met</th>\n",
       "      <th id=\"T_e5764_level0_col120\" class=\"col_heading level0 col120\" >decision</th>\n",
       "      <th id=\"T_e5764_level0_col121\" class=\"col_heading level0 col121\" >decision_o</th>\n",
       "      <th id=\"T_e5764_level0_col122\" class=\"col_heading level0 col122\" >match</th>\n",
       "    </tr>\n",
       "  </thead>\n",
       "  <tbody>\n",
       "    <tr>\n",
       "      <th id=\"T_e5764_level0_row0\" class=\"row_heading level0 row0\" >0</th>\n",
       "      <td id=\"T_e5764_row0_col0\" class=\"data row0 col0\" >b''</td>\n",
       "      <td id=\"T_e5764_row0_col1\" class=\"data row0 col1\" >1.000000</td>\n",
       "      <td id=\"T_e5764_row0_col2\" class=\"data row0 col2\" >b'female'</td>\n",
       "      <td id=\"T_e5764_row0_col3\" class=\"data row0 col3\" >21.000000</td>\n",
       "      <td id=\"T_e5764_row0_col4\" class=\"data row0 col4\" >27.000000</td>\n",
       "      <td id=\"T_e5764_row0_col5\" class=\"data row0 col5\" >6.000000</td>\n",
       "      <td id=\"T_e5764_row0_col6\" class=\"data row0 col6\" >b'[4-6]'</td>\n",
       "      <td id=\"T_e5764_row0_col7\" class=\"data row0 col7\" >b'Asian/Pacific Islander/Asian-American'</td>\n",
       "      <td id=\"T_e5764_row0_col8\" class=\"data row0 col8\" >b'European/Caucasian-American'</td>\n",
       "      <td id=\"T_e5764_row0_col9\" class=\"data row0 col9\" >b'0'</td>\n",
       "      <td id=\"T_e5764_row0_col10\" class=\"data row0 col10\" >2.000000</td>\n",
       "      <td id=\"T_e5764_row0_col11\" class=\"data row0 col11\" >4.000000</td>\n",
       "      <td id=\"T_e5764_row0_col12\" class=\"data row0 col12\" >b'[2-5]'</td>\n",
       "      <td id=\"T_e5764_row0_col13\" class=\"data row0 col13\" >b'[2-5]'</td>\n",
       "      <td id=\"T_e5764_row0_col14\" class=\"data row0 col14\" >b'Law'</td>\n",
       "      <td id=\"T_e5764_row0_col15\" class=\"data row0 col15\" >35.000000</td>\n",
       "      <td id=\"T_e5764_row0_col16\" class=\"data row0 col16\" >20.000000</td>\n",
       "      <td id=\"T_e5764_row0_col17\" class=\"data row0 col17\" >20.000000</td>\n",
       "      <td id=\"T_e5764_row0_col18\" class=\"data row0 col18\" >20.000000</td>\n",
       "      <td id=\"T_e5764_row0_col19\" class=\"data row0 col19\" >0.000000</td>\n",
       "      <td id=\"T_e5764_row0_col20\" class=\"data row0 col20\" >5.000000</td>\n",
       "      <td id=\"T_e5764_row0_col21\" class=\"data row0 col21\" >b'[21-100]'</td>\n",
       "      <td id=\"T_e5764_row0_col22\" class=\"data row0 col22\" >b'[16-20]'</td>\n",
       "      <td id=\"T_e5764_row0_col23\" class=\"data row0 col23\" >b'[16-20]'</td>\n",
       "      <td id=\"T_e5764_row0_col24\" class=\"data row0 col24\" >b'[16-20]'</td>\n",
       "      <td id=\"T_e5764_row0_col25\" class=\"data row0 col25\" >b'[0-15]'</td>\n",
       "      <td id=\"T_e5764_row0_col26\" class=\"data row0 col26\" >b'[0-15]'</td>\n",
       "      <td id=\"T_e5764_row0_col27\" class=\"data row0 col27\" >6.000000</td>\n",
       "      <td id=\"T_e5764_row0_col28\" class=\"data row0 col28\" >8.000000</td>\n",
       "      <td id=\"T_e5764_row0_col29\" class=\"data row0 col29\" >8.000000</td>\n",
       "      <td id=\"T_e5764_row0_col30\" class=\"data row0 col30\" >8.000000</td>\n",
       "      <td id=\"T_e5764_row0_col31\" class=\"data row0 col31\" >8.000000</td>\n",
       "      <td id=\"T_e5764_row0_col32\" class=\"data row0 col32\" >6.000000</td>\n",
       "      <td id=\"T_e5764_row0_col33\" class=\"data row0 col33\" >b'[6-8]'</td>\n",
       "      <td id=\"T_e5764_row0_col34\" class=\"data row0 col34\" >b'[6-8]'</td>\n",
       "      <td id=\"T_e5764_row0_col35\" class=\"data row0 col35\" >b'[6-8]'</td>\n",
       "      <td id=\"T_e5764_row0_col36\" class=\"data row0 col36\" >b'[6-8]'</td>\n",
       "      <td id=\"T_e5764_row0_col37\" class=\"data row0 col37\" >b'[6-8]'</td>\n",
       "      <td id=\"T_e5764_row0_col38\" class=\"data row0 col38\" >b'[6-8]'</td>\n",
       "      <td id=\"T_e5764_row0_col39\" class=\"data row0 col39\" >15.000000</td>\n",
       "      <td id=\"T_e5764_row0_col40\" class=\"data row0 col40\" >20.000000</td>\n",
       "      <td id=\"T_e5764_row0_col41\" class=\"data row0 col41\" >20.000000</td>\n",
       "      <td id=\"T_e5764_row0_col42\" class=\"data row0 col42\" >15.000000</td>\n",
       "      <td id=\"T_e5764_row0_col43\" class=\"data row0 col43\" >15.000000</td>\n",
       "      <td id=\"T_e5764_row0_col44\" class=\"data row0 col44\" >15.000000</td>\n",
       "      <td id=\"T_e5764_row0_col45\" class=\"data row0 col45\" >b'[0-15]'</td>\n",
       "      <td id=\"T_e5764_row0_col46\" class=\"data row0 col46\" >b'[16-20]'</td>\n",
       "      <td id=\"T_e5764_row0_col47\" class=\"data row0 col47\" >b'[16-20]'</td>\n",
       "      <td id=\"T_e5764_row0_col48\" class=\"data row0 col48\" >b'[0-15]'</td>\n",
       "      <td id=\"T_e5764_row0_col49\" class=\"data row0 col49\" >b'[0-15]'</td>\n",
       "      <td id=\"T_e5764_row0_col50\" class=\"data row0 col50\" >b'[0-15]'</td>\n",
       "      <td id=\"T_e5764_row0_col51\" class=\"data row0 col51\" >6.000000</td>\n",
       "      <td id=\"T_e5764_row0_col52\" class=\"data row0 col52\" >8.000000</td>\n",
       "      <td id=\"T_e5764_row0_col53\" class=\"data row0 col53\" >8.000000</td>\n",
       "      <td id=\"T_e5764_row0_col54\" class=\"data row0 col54\" >8.000000</td>\n",
       "      <td id=\"T_e5764_row0_col55\" class=\"data row0 col55\" >7.000000</td>\n",
       "      <td id=\"T_e5764_row0_col56\" class=\"data row0 col56\" >b'[6-8]'</td>\n",
       "      <td id=\"T_e5764_row0_col57\" class=\"data row0 col57\" >b'[6-8]'</td>\n",
       "      <td id=\"T_e5764_row0_col58\" class=\"data row0 col58\" >b'[6-8]'</td>\n",
       "      <td id=\"T_e5764_row0_col59\" class=\"data row0 col59\" >b'[6-8]'</td>\n",
       "      <td id=\"T_e5764_row0_col60\" class=\"data row0 col60\" >b'[6-8]'</td>\n",
       "      <td id=\"T_e5764_row0_col61\" class=\"data row0 col61\" >6.000000</td>\n",
       "      <td id=\"T_e5764_row0_col62\" class=\"data row0 col62\" >9.000000</td>\n",
       "      <td id=\"T_e5764_row0_col63\" class=\"data row0 col63\" >7.000000</td>\n",
       "      <td id=\"T_e5764_row0_col64\" class=\"data row0 col64\" >7.000000</td>\n",
       "      <td id=\"T_e5764_row0_col65\" class=\"data row0 col65\" >6.000000</td>\n",
       "      <td id=\"T_e5764_row0_col66\" class=\"data row0 col66\" >5.000000</td>\n",
       "      <td id=\"T_e5764_row0_col67\" class=\"data row0 col67\" >b'[6-8]'</td>\n",
       "      <td id=\"T_e5764_row0_col68\" class=\"data row0 col68\" >b'[9-10]'</td>\n",
       "      <td id=\"T_e5764_row0_col69\" class=\"data row0 col69\" >b'[6-8]'</td>\n",
       "      <td id=\"T_e5764_row0_col70\" class=\"data row0 col70\" >b'[6-8]'</td>\n",
       "      <td id=\"T_e5764_row0_col71\" class=\"data row0 col71\" >b'[6-8]'</td>\n",
       "      <td id=\"T_e5764_row0_col72\" class=\"data row0 col72\" >b'[0-5]'</td>\n",
       "      <td id=\"T_e5764_row0_col73\" class=\"data row0 col73\" >9.000000</td>\n",
       "      <td id=\"T_e5764_row0_col74\" class=\"data row0 col74\" >2.000000</td>\n",
       "      <td id=\"T_e5764_row0_col75\" class=\"data row0 col75\" >8.000000</td>\n",
       "      <td id=\"T_e5764_row0_col76\" class=\"data row0 col76\" >9.000000</td>\n",
       "      <td id=\"T_e5764_row0_col77\" class=\"data row0 col77\" >1.000000</td>\n",
       "      <td id=\"T_e5764_row0_col78\" class=\"data row0 col78\" >1.000000</td>\n",
       "      <td id=\"T_e5764_row0_col79\" class=\"data row0 col79\" >5.000000</td>\n",
       "      <td id=\"T_e5764_row0_col80\" class=\"data row0 col80\" >1.000000</td>\n",
       "      <td id=\"T_e5764_row0_col81\" class=\"data row0 col81\" >5.000000</td>\n",
       "      <td id=\"T_e5764_row0_col82\" class=\"data row0 col82\" >6.000000</td>\n",
       "      <td id=\"T_e5764_row0_col83\" class=\"data row0 col83\" >9.000000</td>\n",
       "      <td id=\"T_e5764_row0_col84\" class=\"data row0 col84\" >1.000000</td>\n",
       "      <td id=\"T_e5764_row0_col85\" class=\"data row0 col85\" >10.000000</td>\n",
       "      <td id=\"T_e5764_row0_col86\" class=\"data row0 col86\" >10.000000</td>\n",
       "      <td id=\"T_e5764_row0_col87\" class=\"data row0 col87\" >9.000000</td>\n",
       "      <td id=\"T_e5764_row0_col88\" class=\"data row0 col88\" >8.000000</td>\n",
       "      <td id=\"T_e5764_row0_col89\" class=\"data row0 col89\" >1.000000</td>\n",
       "      <td id=\"T_e5764_row0_col90\" class=\"data row0 col90\" >b'[9-10]'</td>\n",
       "      <td id=\"T_e5764_row0_col91\" class=\"data row0 col91\" >b'[0-5]'</td>\n",
       "      <td id=\"T_e5764_row0_col92\" class=\"data row0 col92\" >b'[6-8]'</td>\n",
       "      <td id=\"T_e5764_row0_col93\" class=\"data row0 col93\" >b'[9-10]'</td>\n",
       "      <td id=\"T_e5764_row0_col94\" class=\"data row0 col94\" >b'[0-5]'</td>\n",
       "      <td id=\"T_e5764_row0_col95\" class=\"data row0 col95\" >b'[0-5]'</td>\n",
       "      <td id=\"T_e5764_row0_col96\" class=\"data row0 col96\" >b'[0-5]'</td>\n",
       "      <td id=\"T_e5764_row0_col97\" class=\"data row0 col97\" >b'[0-5]'</td>\n",
       "      <td id=\"T_e5764_row0_col98\" class=\"data row0 col98\" >b'[0-5]'</td>\n",
       "      <td id=\"T_e5764_row0_col99\" class=\"data row0 col99\" >b'[6-8]'</td>\n",
       "      <td id=\"T_e5764_row0_col100\" class=\"data row0 col100\" >b'[9-10]'</td>\n",
       "      <td id=\"T_e5764_row0_col101\" class=\"data row0 col101\" >b'[0-5]'</td>\n",
       "      <td id=\"T_e5764_row0_col102\" class=\"data row0 col102\" >b'[9-10]'</td>\n",
       "      <td id=\"T_e5764_row0_col103\" class=\"data row0 col103\" >b'[9-10]'</td>\n",
       "      <td id=\"T_e5764_row0_col104\" class=\"data row0 col104\" >b'[9-10]'</td>\n",
       "      <td id=\"T_e5764_row0_col105\" class=\"data row0 col105\" >b'[6-8]'</td>\n",
       "      <td id=\"T_e5764_row0_col106\" class=\"data row0 col106\" >b'[0-5]'</td>\n",
       "      <td id=\"T_e5764_row0_col107\" class=\"data row0 col107\" >0.140000</td>\n",
       "      <td id=\"T_e5764_row0_col108\" class=\"data row0 col108\" >b'[0-0.33]'</td>\n",
       "      <td id=\"T_e5764_row0_col109\" class=\"data row0 col109\" >3.000000</td>\n",
       "      <td id=\"T_e5764_row0_col110\" class=\"data row0 col110\" >2.000000</td>\n",
       "      <td id=\"T_e5764_row0_col111\" class=\"data row0 col111\" >4.000000</td>\n",
       "      <td id=\"T_e5764_row0_col112\" class=\"data row0 col112\" >b'[0-4]'</td>\n",
       "      <td id=\"T_e5764_row0_col113\" class=\"data row0 col113\" >b'[0-3]'</td>\n",
       "      <td id=\"T_e5764_row0_col114\" class=\"data row0 col114\" >b'[3-5]'</td>\n",
       "      <td id=\"T_e5764_row0_col115\" class=\"data row0 col115\" >7.000000</td>\n",
       "      <td id=\"T_e5764_row0_col116\" class=\"data row0 col116\" >6.000000</td>\n",
       "      <td id=\"T_e5764_row0_col117\" class=\"data row0 col117\" >b'[6-8]'</td>\n",
       "      <td id=\"T_e5764_row0_col118\" class=\"data row0 col118\" >b'[5-6]'</td>\n",
       "      <td id=\"T_e5764_row0_col119\" class=\"data row0 col119\" >0.000000</td>\n",
       "      <td id=\"T_e5764_row0_col120\" class=\"data row0 col120\" >b'1'</td>\n",
       "      <td id=\"T_e5764_row0_col121\" class=\"data row0 col121\" >b'0'</td>\n",
       "      <td id=\"T_e5764_row0_col122\" class=\"data row0 col122\" >b'0'</td>\n",
       "    </tr>\n",
       "    <tr>\n",
       "      <th id=\"T_e5764_level0_row1\" class=\"row_heading level0 row1\" >1</th>\n",
       "      <td id=\"T_e5764_row1_col0\" class=\"data row1 col0\" >b''</td>\n",
       "      <td id=\"T_e5764_row1_col1\" class=\"data row1 col1\" >1.000000</td>\n",
       "      <td id=\"T_e5764_row1_col2\" class=\"data row1 col2\" >b'female'</td>\n",
       "      <td id=\"T_e5764_row1_col3\" class=\"data row1 col3\" >21.000000</td>\n",
       "      <td id=\"T_e5764_row1_col4\" class=\"data row1 col4\" >22.000000</td>\n",
       "      <td id=\"T_e5764_row1_col5\" class=\"data row1 col5\" >1.000000</td>\n",
       "      <td id=\"T_e5764_row1_col6\" class=\"data row1 col6\" >b'[0-1]'</td>\n",
       "      <td id=\"T_e5764_row1_col7\" class=\"data row1 col7\" >b'Asian/Pacific Islander/Asian-American'</td>\n",
       "      <td id=\"T_e5764_row1_col8\" class=\"data row1 col8\" >b'European/Caucasian-American'</td>\n",
       "      <td id=\"T_e5764_row1_col9\" class=\"data row1 col9\" >b'0'</td>\n",
       "      <td id=\"T_e5764_row1_col10\" class=\"data row1 col10\" >2.000000</td>\n",
       "      <td id=\"T_e5764_row1_col11\" class=\"data row1 col11\" >4.000000</td>\n",
       "      <td id=\"T_e5764_row1_col12\" class=\"data row1 col12\" >b'[2-5]'</td>\n",
       "      <td id=\"T_e5764_row1_col13\" class=\"data row1 col13\" >b'[2-5]'</td>\n",
       "      <td id=\"T_e5764_row1_col14\" class=\"data row1 col14\" >b'Law'</td>\n",
       "      <td id=\"T_e5764_row1_col15\" class=\"data row1 col15\" >60.000000</td>\n",
       "      <td id=\"T_e5764_row1_col16\" class=\"data row1 col16\" >0.000000</td>\n",
       "      <td id=\"T_e5764_row1_col17\" class=\"data row1 col17\" >0.000000</td>\n",
       "      <td id=\"T_e5764_row1_col18\" class=\"data row1 col18\" >40.000000</td>\n",
       "      <td id=\"T_e5764_row1_col19\" class=\"data row1 col19\" >0.000000</td>\n",
       "      <td id=\"T_e5764_row1_col20\" class=\"data row1 col20\" >0.000000</td>\n",
       "      <td id=\"T_e5764_row1_col21\" class=\"data row1 col21\" >b'[21-100]'</td>\n",
       "      <td id=\"T_e5764_row1_col22\" class=\"data row1 col22\" >b'[0-15]'</td>\n",
       "      <td id=\"T_e5764_row1_col23\" class=\"data row1 col23\" >b'[0-15]'</td>\n",
       "      <td id=\"T_e5764_row1_col24\" class=\"data row1 col24\" >b'[21-100]'</td>\n",
       "      <td id=\"T_e5764_row1_col25\" class=\"data row1 col25\" >b'[0-15]'</td>\n",
       "      <td id=\"T_e5764_row1_col26\" class=\"data row1 col26\" >b'[0-15]'</td>\n",
       "      <td id=\"T_e5764_row1_col27\" class=\"data row1 col27\" >7.000000</td>\n",
       "      <td id=\"T_e5764_row1_col28\" class=\"data row1 col28\" >8.000000</td>\n",
       "      <td id=\"T_e5764_row1_col29\" class=\"data row1 col29\" >10.000000</td>\n",
       "      <td id=\"T_e5764_row1_col30\" class=\"data row1 col30\" >7.000000</td>\n",
       "      <td id=\"T_e5764_row1_col31\" class=\"data row1 col31\" >7.000000</td>\n",
       "      <td id=\"T_e5764_row1_col32\" class=\"data row1 col32\" >5.000000</td>\n",
       "      <td id=\"T_e5764_row1_col33\" class=\"data row1 col33\" >b'[6-8]'</td>\n",
       "      <td id=\"T_e5764_row1_col34\" class=\"data row1 col34\" >b'[6-8]'</td>\n",
       "      <td id=\"T_e5764_row1_col35\" class=\"data row1 col35\" >b'[9-10]'</td>\n",
       "      <td id=\"T_e5764_row1_col36\" class=\"data row1 col36\" >b'[6-8]'</td>\n",
       "      <td id=\"T_e5764_row1_col37\" class=\"data row1 col37\" >b'[6-8]'</td>\n",
       "      <td id=\"T_e5764_row1_col38\" class=\"data row1 col38\" >b'[0-5]'</td>\n",
       "      <td id=\"T_e5764_row1_col39\" class=\"data row1 col39\" >15.000000</td>\n",
       "      <td id=\"T_e5764_row1_col40\" class=\"data row1 col40\" >20.000000</td>\n",
       "      <td id=\"T_e5764_row1_col41\" class=\"data row1 col41\" >20.000000</td>\n",
       "      <td id=\"T_e5764_row1_col42\" class=\"data row1 col42\" >15.000000</td>\n",
       "      <td id=\"T_e5764_row1_col43\" class=\"data row1 col43\" >15.000000</td>\n",
       "      <td id=\"T_e5764_row1_col44\" class=\"data row1 col44\" >15.000000</td>\n",
       "      <td id=\"T_e5764_row1_col45\" class=\"data row1 col45\" >b'[0-15]'</td>\n",
       "      <td id=\"T_e5764_row1_col46\" class=\"data row1 col46\" >b'[16-20]'</td>\n",
       "      <td id=\"T_e5764_row1_col47\" class=\"data row1 col47\" >b'[16-20]'</td>\n",
       "      <td id=\"T_e5764_row1_col48\" class=\"data row1 col48\" >b'[0-15]'</td>\n",
       "      <td id=\"T_e5764_row1_col49\" class=\"data row1 col49\" >b'[0-15]'</td>\n",
       "      <td id=\"T_e5764_row1_col50\" class=\"data row1 col50\" >b'[0-15]'</td>\n",
       "      <td id=\"T_e5764_row1_col51\" class=\"data row1 col51\" >6.000000</td>\n",
       "      <td id=\"T_e5764_row1_col52\" class=\"data row1 col52\" >8.000000</td>\n",
       "      <td id=\"T_e5764_row1_col53\" class=\"data row1 col53\" >8.000000</td>\n",
       "      <td id=\"T_e5764_row1_col54\" class=\"data row1 col54\" >8.000000</td>\n",
       "      <td id=\"T_e5764_row1_col55\" class=\"data row1 col55\" >7.000000</td>\n",
       "      <td id=\"T_e5764_row1_col56\" class=\"data row1 col56\" >b'[6-8]'</td>\n",
       "      <td id=\"T_e5764_row1_col57\" class=\"data row1 col57\" >b'[6-8]'</td>\n",
       "      <td id=\"T_e5764_row1_col58\" class=\"data row1 col58\" >b'[6-8]'</td>\n",
       "      <td id=\"T_e5764_row1_col59\" class=\"data row1 col59\" >b'[6-8]'</td>\n",
       "      <td id=\"T_e5764_row1_col60\" class=\"data row1 col60\" >b'[6-8]'</td>\n",
       "      <td id=\"T_e5764_row1_col61\" class=\"data row1 col61\" >7.000000</td>\n",
       "      <td id=\"T_e5764_row1_col62\" class=\"data row1 col62\" >8.000000</td>\n",
       "      <td id=\"T_e5764_row1_col63\" class=\"data row1 col63\" >7.000000</td>\n",
       "      <td id=\"T_e5764_row1_col64\" class=\"data row1 col64\" >8.000000</td>\n",
       "      <td id=\"T_e5764_row1_col65\" class=\"data row1 col65\" >5.000000</td>\n",
       "      <td id=\"T_e5764_row1_col66\" class=\"data row1 col66\" >6.000000</td>\n",
       "      <td id=\"T_e5764_row1_col67\" class=\"data row1 col67\" >b'[6-8]'</td>\n",
       "      <td id=\"T_e5764_row1_col68\" class=\"data row1 col68\" >b'[6-8]'</td>\n",
       "      <td id=\"T_e5764_row1_col69\" class=\"data row1 col69\" >b'[6-8]'</td>\n",
       "      <td id=\"T_e5764_row1_col70\" class=\"data row1 col70\" >b'[6-8]'</td>\n",
       "      <td id=\"T_e5764_row1_col71\" class=\"data row1 col71\" >b'[0-5]'</td>\n",
       "      <td id=\"T_e5764_row1_col72\" class=\"data row1 col72\" >b'[6-8]'</td>\n",
       "      <td id=\"T_e5764_row1_col73\" class=\"data row1 col73\" >9.000000</td>\n",
       "      <td id=\"T_e5764_row1_col74\" class=\"data row1 col74\" >2.000000</td>\n",
       "      <td id=\"T_e5764_row1_col75\" class=\"data row1 col75\" >8.000000</td>\n",
       "      <td id=\"T_e5764_row1_col76\" class=\"data row1 col76\" >9.000000</td>\n",
       "      <td id=\"T_e5764_row1_col77\" class=\"data row1 col77\" >1.000000</td>\n",
       "      <td id=\"T_e5764_row1_col78\" class=\"data row1 col78\" >1.000000</td>\n",
       "      <td id=\"T_e5764_row1_col79\" class=\"data row1 col79\" >5.000000</td>\n",
       "      <td id=\"T_e5764_row1_col80\" class=\"data row1 col80\" >1.000000</td>\n",
       "      <td id=\"T_e5764_row1_col81\" class=\"data row1 col81\" >5.000000</td>\n",
       "      <td id=\"T_e5764_row1_col82\" class=\"data row1 col82\" >6.000000</td>\n",
       "      <td id=\"T_e5764_row1_col83\" class=\"data row1 col83\" >9.000000</td>\n",
       "      <td id=\"T_e5764_row1_col84\" class=\"data row1 col84\" >1.000000</td>\n",
       "      <td id=\"T_e5764_row1_col85\" class=\"data row1 col85\" >10.000000</td>\n",
       "      <td id=\"T_e5764_row1_col86\" class=\"data row1 col86\" >10.000000</td>\n",
       "      <td id=\"T_e5764_row1_col87\" class=\"data row1 col87\" >9.000000</td>\n",
       "      <td id=\"T_e5764_row1_col88\" class=\"data row1 col88\" >8.000000</td>\n",
       "      <td id=\"T_e5764_row1_col89\" class=\"data row1 col89\" >1.000000</td>\n",
       "      <td id=\"T_e5764_row1_col90\" class=\"data row1 col90\" >b'[9-10]'</td>\n",
       "      <td id=\"T_e5764_row1_col91\" class=\"data row1 col91\" >b'[0-5]'</td>\n",
       "      <td id=\"T_e5764_row1_col92\" class=\"data row1 col92\" >b'[6-8]'</td>\n",
       "      <td id=\"T_e5764_row1_col93\" class=\"data row1 col93\" >b'[9-10]'</td>\n",
       "      <td id=\"T_e5764_row1_col94\" class=\"data row1 col94\" >b'[0-5]'</td>\n",
       "      <td id=\"T_e5764_row1_col95\" class=\"data row1 col95\" >b'[0-5]'</td>\n",
       "      <td id=\"T_e5764_row1_col96\" class=\"data row1 col96\" >b'[0-5]'</td>\n",
       "      <td id=\"T_e5764_row1_col97\" class=\"data row1 col97\" >b'[0-5]'</td>\n",
       "      <td id=\"T_e5764_row1_col98\" class=\"data row1 col98\" >b'[0-5]'</td>\n",
       "      <td id=\"T_e5764_row1_col99\" class=\"data row1 col99\" >b'[6-8]'</td>\n",
       "      <td id=\"T_e5764_row1_col100\" class=\"data row1 col100\" >b'[9-10]'</td>\n",
       "      <td id=\"T_e5764_row1_col101\" class=\"data row1 col101\" >b'[0-5]'</td>\n",
       "      <td id=\"T_e5764_row1_col102\" class=\"data row1 col102\" >b'[9-10]'</td>\n",
       "      <td id=\"T_e5764_row1_col103\" class=\"data row1 col103\" >b'[9-10]'</td>\n",
       "      <td id=\"T_e5764_row1_col104\" class=\"data row1 col104\" >b'[9-10]'</td>\n",
       "      <td id=\"T_e5764_row1_col105\" class=\"data row1 col105\" >b'[6-8]'</td>\n",
       "      <td id=\"T_e5764_row1_col106\" class=\"data row1 col106\" >b'[0-5]'</td>\n",
       "      <td id=\"T_e5764_row1_col107\" class=\"data row1 col107\" >0.540000</td>\n",
       "      <td id=\"T_e5764_row1_col108\" class=\"data row1 col108\" >b'[0.33-1]'</td>\n",
       "      <td id=\"T_e5764_row1_col109\" class=\"data row1 col109\" >3.000000</td>\n",
       "      <td id=\"T_e5764_row1_col110\" class=\"data row1 col110\" >2.000000</td>\n",
       "      <td id=\"T_e5764_row1_col111\" class=\"data row1 col111\" >4.000000</td>\n",
       "      <td id=\"T_e5764_row1_col112\" class=\"data row1 col112\" >b'[0-4]'</td>\n",
       "      <td id=\"T_e5764_row1_col113\" class=\"data row1 col113\" >b'[0-3]'</td>\n",
       "      <td id=\"T_e5764_row1_col114\" class=\"data row1 col114\" >b'[3-5]'</td>\n",
       "      <td id=\"T_e5764_row1_col115\" class=\"data row1 col115\" >7.000000</td>\n",
       "      <td id=\"T_e5764_row1_col116\" class=\"data row1 col116\" >5.000000</td>\n",
       "      <td id=\"T_e5764_row1_col117\" class=\"data row1 col117\" >b'[6-8]'</td>\n",
       "      <td id=\"T_e5764_row1_col118\" class=\"data row1 col118\" >b'[5-6]'</td>\n",
       "      <td id=\"T_e5764_row1_col119\" class=\"data row1 col119\" >1.000000</td>\n",
       "      <td id=\"T_e5764_row1_col120\" class=\"data row1 col120\" >b'1'</td>\n",
       "      <td id=\"T_e5764_row1_col121\" class=\"data row1 col121\" >b'0'</td>\n",
       "      <td id=\"T_e5764_row1_col122\" class=\"data row1 col122\" >b'0'</td>\n",
       "    </tr>\n",
       "    <tr>\n",
       "      <th id=\"T_e5764_level0_row2\" class=\"row_heading level0 row2\" >2</th>\n",
       "      <td id=\"T_e5764_row2_col0\" class=\"data row2 col0\" >b''</td>\n",
       "      <td id=\"T_e5764_row2_col1\" class=\"data row2 col1\" >1.000000</td>\n",
       "      <td id=\"T_e5764_row2_col2\" class=\"data row2 col2\" >b'female'</td>\n",
       "      <td id=\"T_e5764_row2_col3\" class=\"data row2 col3\" >21.000000</td>\n",
       "      <td id=\"T_e5764_row2_col4\" class=\"data row2 col4\" >22.000000</td>\n",
       "      <td id=\"T_e5764_row2_col5\" class=\"data row2 col5\" >1.000000</td>\n",
       "      <td id=\"T_e5764_row2_col6\" class=\"data row2 col6\" >b'[0-1]'</td>\n",
       "      <td id=\"T_e5764_row2_col7\" class=\"data row2 col7\" >b'Asian/Pacific Islander/Asian-American'</td>\n",
       "      <td id=\"T_e5764_row2_col8\" class=\"data row2 col8\" >b'Asian/Pacific Islander/Asian-American'</td>\n",
       "      <td id=\"T_e5764_row2_col9\" class=\"data row2 col9\" >b'1'</td>\n",
       "      <td id=\"T_e5764_row2_col10\" class=\"data row2 col10\" >2.000000</td>\n",
       "      <td id=\"T_e5764_row2_col11\" class=\"data row2 col11\" >4.000000</td>\n",
       "      <td id=\"T_e5764_row2_col12\" class=\"data row2 col12\" >b'[2-5]'</td>\n",
       "      <td id=\"T_e5764_row2_col13\" class=\"data row2 col13\" >b'[2-5]'</td>\n",
       "      <td id=\"T_e5764_row2_col14\" class=\"data row2 col14\" >b'Law'</td>\n",
       "      <td id=\"T_e5764_row2_col15\" class=\"data row2 col15\" >19.000000</td>\n",
       "      <td id=\"T_e5764_row2_col16\" class=\"data row2 col16\" >18.000000</td>\n",
       "      <td id=\"T_e5764_row2_col17\" class=\"data row2 col17\" >19.000000</td>\n",
       "      <td id=\"T_e5764_row2_col18\" class=\"data row2 col18\" >18.000000</td>\n",
       "      <td id=\"T_e5764_row2_col19\" class=\"data row2 col19\" >14.000000</td>\n",
       "      <td id=\"T_e5764_row2_col20\" class=\"data row2 col20\" >12.000000</td>\n",
       "      <td id=\"T_e5764_row2_col21\" class=\"data row2 col21\" >b'[16-20]'</td>\n",
       "      <td id=\"T_e5764_row2_col22\" class=\"data row2 col22\" >b'[16-20]'</td>\n",
       "      <td id=\"T_e5764_row2_col23\" class=\"data row2 col23\" >b'[16-20]'</td>\n",
       "      <td id=\"T_e5764_row2_col24\" class=\"data row2 col24\" >b'[16-20]'</td>\n",
       "      <td id=\"T_e5764_row2_col25\" class=\"data row2 col25\" >b'[0-15]'</td>\n",
       "      <td id=\"T_e5764_row2_col26\" class=\"data row2 col26\" >b'[0-15]'</td>\n",
       "      <td id=\"T_e5764_row2_col27\" class=\"data row2 col27\" >10.000000</td>\n",
       "      <td id=\"T_e5764_row2_col28\" class=\"data row2 col28\" >10.000000</td>\n",
       "      <td id=\"T_e5764_row2_col29\" class=\"data row2 col29\" >10.000000</td>\n",
       "      <td id=\"T_e5764_row2_col30\" class=\"data row2 col30\" >10.000000</td>\n",
       "      <td id=\"T_e5764_row2_col31\" class=\"data row2 col31\" >10.000000</td>\n",
       "      <td id=\"T_e5764_row2_col32\" class=\"data row2 col32\" >10.000000</td>\n",
       "      <td id=\"T_e5764_row2_col33\" class=\"data row2 col33\" >b'[9-10]'</td>\n",
       "      <td id=\"T_e5764_row2_col34\" class=\"data row2 col34\" >b'[9-10]'</td>\n",
       "      <td id=\"T_e5764_row2_col35\" class=\"data row2 col35\" >b'[9-10]'</td>\n",
       "      <td id=\"T_e5764_row2_col36\" class=\"data row2 col36\" >b'[9-10]'</td>\n",
       "      <td id=\"T_e5764_row2_col37\" class=\"data row2 col37\" >b'[9-10]'</td>\n",
       "      <td id=\"T_e5764_row2_col38\" class=\"data row2 col38\" >b'[9-10]'</td>\n",
       "      <td id=\"T_e5764_row2_col39\" class=\"data row2 col39\" >15.000000</td>\n",
       "      <td id=\"T_e5764_row2_col40\" class=\"data row2 col40\" >20.000000</td>\n",
       "      <td id=\"T_e5764_row2_col41\" class=\"data row2 col41\" >20.000000</td>\n",
       "      <td id=\"T_e5764_row2_col42\" class=\"data row2 col42\" >15.000000</td>\n",
       "      <td id=\"T_e5764_row2_col43\" class=\"data row2 col43\" >15.000000</td>\n",
       "      <td id=\"T_e5764_row2_col44\" class=\"data row2 col44\" >15.000000</td>\n",
       "      <td id=\"T_e5764_row2_col45\" class=\"data row2 col45\" >b'[0-15]'</td>\n",
       "      <td id=\"T_e5764_row2_col46\" class=\"data row2 col46\" >b'[16-20]'</td>\n",
       "      <td id=\"T_e5764_row2_col47\" class=\"data row2 col47\" >b'[16-20]'</td>\n",
       "      <td id=\"T_e5764_row2_col48\" class=\"data row2 col48\" >b'[0-15]'</td>\n",
       "      <td id=\"T_e5764_row2_col49\" class=\"data row2 col49\" >b'[0-15]'</td>\n",
       "      <td id=\"T_e5764_row2_col50\" class=\"data row2 col50\" >b'[0-15]'</td>\n",
       "      <td id=\"T_e5764_row2_col51\" class=\"data row2 col51\" >6.000000</td>\n",
       "      <td id=\"T_e5764_row2_col52\" class=\"data row2 col52\" >8.000000</td>\n",
       "      <td id=\"T_e5764_row2_col53\" class=\"data row2 col53\" >8.000000</td>\n",
       "      <td id=\"T_e5764_row2_col54\" class=\"data row2 col54\" >8.000000</td>\n",
       "      <td id=\"T_e5764_row2_col55\" class=\"data row2 col55\" >7.000000</td>\n",
       "      <td id=\"T_e5764_row2_col56\" class=\"data row2 col56\" >b'[6-8]'</td>\n",
       "      <td id=\"T_e5764_row2_col57\" class=\"data row2 col57\" >b'[6-8]'</td>\n",
       "      <td id=\"T_e5764_row2_col58\" class=\"data row2 col58\" >b'[6-8]'</td>\n",
       "      <td id=\"T_e5764_row2_col59\" class=\"data row2 col59\" >b'[6-8]'</td>\n",
       "      <td id=\"T_e5764_row2_col60\" class=\"data row2 col60\" >b'[6-8]'</td>\n",
       "      <td id=\"T_e5764_row2_col61\" class=\"data row2 col61\" >5.000000</td>\n",
       "      <td id=\"T_e5764_row2_col62\" class=\"data row2 col62\" >8.000000</td>\n",
       "      <td id=\"T_e5764_row2_col63\" class=\"data row2 col63\" >9.000000</td>\n",
       "      <td id=\"T_e5764_row2_col64\" class=\"data row2 col64\" >8.000000</td>\n",
       "      <td id=\"T_e5764_row2_col65\" class=\"data row2 col65\" >5.000000</td>\n",
       "      <td id=\"T_e5764_row2_col66\" class=\"data row2 col66\" >7.000000</td>\n",
       "      <td id=\"T_e5764_row2_col67\" class=\"data row2 col67\" >b'[0-5]'</td>\n",
       "      <td id=\"T_e5764_row2_col68\" class=\"data row2 col68\" >b'[6-8]'</td>\n",
       "      <td id=\"T_e5764_row2_col69\" class=\"data row2 col69\" >b'[9-10]'</td>\n",
       "      <td id=\"T_e5764_row2_col70\" class=\"data row2 col70\" >b'[6-8]'</td>\n",
       "      <td id=\"T_e5764_row2_col71\" class=\"data row2 col71\" >b'[0-5]'</td>\n",
       "      <td id=\"T_e5764_row2_col72\" class=\"data row2 col72\" >b'[6-8]'</td>\n",
       "      <td id=\"T_e5764_row2_col73\" class=\"data row2 col73\" >9.000000</td>\n",
       "      <td id=\"T_e5764_row2_col74\" class=\"data row2 col74\" >2.000000</td>\n",
       "      <td id=\"T_e5764_row2_col75\" class=\"data row2 col75\" >8.000000</td>\n",
       "      <td id=\"T_e5764_row2_col76\" class=\"data row2 col76\" >9.000000</td>\n",
       "      <td id=\"T_e5764_row2_col77\" class=\"data row2 col77\" >1.000000</td>\n",
       "      <td id=\"T_e5764_row2_col78\" class=\"data row2 col78\" >1.000000</td>\n",
       "      <td id=\"T_e5764_row2_col79\" class=\"data row2 col79\" >5.000000</td>\n",
       "      <td id=\"T_e5764_row2_col80\" class=\"data row2 col80\" >1.000000</td>\n",
       "      <td id=\"T_e5764_row2_col81\" class=\"data row2 col81\" >5.000000</td>\n",
       "      <td id=\"T_e5764_row2_col82\" class=\"data row2 col82\" >6.000000</td>\n",
       "      <td id=\"T_e5764_row2_col83\" class=\"data row2 col83\" >9.000000</td>\n",
       "      <td id=\"T_e5764_row2_col84\" class=\"data row2 col84\" >1.000000</td>\n",
       "      <td id=\"T_e5764_row2_col85\" class=\"data row2 col85\" >10.000000</td>\n",
       "      <td id=\"T_e5764_row2_col86\" class=\"data row2 col86\" >10.000000</td>\n",
       "      <td id=\"T_e5764_row2_col87\" class=\"data row2 col87\" >9.000000</td>\n",
       "      <td id=\"T_e5764_row2_col88\" class=\"data row2 col88\" >8.000000</td>\n",
       "      <td id=\"T_e5764_row2_col89\" class=\"data row2 col89\" >1.000000</td>\n",
       "      <td id=\"T_e5764_row2_col90\" class=\"data row2 col90\" >b'[9-10]'</td>\n",
       "      <td id=\"T_e5764_row2_col91\" class=\"data row2 col91\" >b'[0-5]'</td>\n",
       "      <td id=\"T_e5764_row2_col92\" class=\"data row2 col92\" >b'[6-8]'</td>\n",
       "      <td id=\"T_e5764_row2_col93\" class=\"data row2 col93\" >b'[9-10]'</td>\n",
       "      <td id=\"T_e5764_row2_col94\" class=\"data row2 col94\" >b'[0-5]'</td>\n",
       "      <td id=\"T_e5764_row2_col95\" class=\"data row2 col95\" >b'[0-5]'</td>\n",
       "      <td id=\"T_e5764_row2_col96\" class=\"data row2 col96\" >b'[0-5]'</td>\n",
       "      <td id=\"T_e5764_row2_col97\" class=\"data row2 col97\" >b'[0-5]'</td>\n",
       "      <td id=\"T_e5764_row2_col98\" class=\"data row2 col98\" >b'[0-5]'</td>\n",
       "      <td id=\"T_e5764_row2_col99\" class=\"data row2 col99\" >b'[6-8]'</td>\n",
       "      <td id=\"T_e5764_row2_col100\" class=\"data row2 col100\" >b'[9-10]'</td>\n",
       "      <td id=\"T_e5764_row2_col101\" class=\"data row2 col101\" >b'[0-5]'</td>\n",
       "      <td id=\"T_e5764_row2_col102\" class=\"data row2 col102\" >b'[9-10]'</td>\n",
       "      <td id=\"T_e5764_row2_col103\" class=\"data row2 col103\" >b'[9-10]'</td>\n",
       "      <td id=\"T_e5764_row2_col104\" class=\"data row2 col104\" >b'[9-10]'</td>\n",
       "      <td id=\"T_e5764_row2_col105\" class=\"data row2 col105\" >b'[6-8]'</td>\n",
       "      <td id=\"T_e5764_row2_col106\" class=\"data row2 col106\" >b'[0-5]'</td>\n",
       "      <td id=\"T_e5764_row2_col107\" class=\"data row2 col107\" >0.160000</td>\n",
       "      <td id=\"T_e5764_row2_col108\" class=\"data row2 col108\" >b'[0-0.33]'</td>\n",
       "      <td id=\"T_e5764_row2_col109\" class=\"data row2 col109\" >3.000000</td>\n",
       "      <td id=\"T_e5764_row2_col110\" class=\"data row2 col110\" >2.000000</td>\n",
       "      <td id=\"T_e5764_row2_col111\" class=\"data row2 col111\" >4.000000</td>\n",
       "      <td id=\"T_e5764_row2_col112\" class=\"data row2 col112\" >b'[0-4]'</td>\n",
       "      <td id=\"T_e5764_row2_col113\" class=\"data row2 col113\" >b'[0-3]'</td>\n",
       "      <td id=\"T_e5764_row2_col114\" class=\"data row2 col114\" >b'[3-5]'</td>\n",
       "      <td id=\"T_e5764_row2_col115\" class=\"data row2 col115\" >7.000000</td>\n",
       "      <td id=\"T_e5764_row2_col116\" class=\"data row2 col116\" >nan</td>\n",
       "      <td id=\"T_e5764_row2_col117\" class=\"data row2 col117\" >b'[6-8]'</td>\n",
       "      <td id=\"T_e5764_row2_col118\" class=\"data row2 col118\" >b'[0-4]'</td>\n",
       "      <td id=\"T_e5764_row2_col119\" class=\"data row2 col119\" >1.000000</td>\n",
       "      <td id=\"T_e5764_row2_col120\" class=\"data row2 col120\" >b'1'</td>\n",
       "      <td id=\"T_e5764_row2_col121\" class=\"data row2 col121\" >b'1'</td>\n",
       "      <td id=\"T_e5764_row2_col122\" class=\"data row2 col122\" >b'1'</td>\n",
       "    </tr>\n",
       "    <tr>\n",
       "      <th id=\"T_e5764_level0_row3\" class=\"row_heading level0 row3\" >3</th>\n",
       "      <td id=\"T_e5764_row3_col0\" class=\"data row3 col0\" >b''</td>\n",
       "      <td id=\"T_e5764_row3_col1\" class=\"data row3 col1\" >1.000000</td>\n",
       "      <td id=\"T_e5764_row3_col2\" class=\"data row3 col2\" >b'female'</td>\n",
       "      <td id=\"T_e5764_row3_col3\" class=\"data row3 col3\" >21.000000</td>\n",
       "      <td id=\"T_e5764_row3_col4\" class=\"data row3 col4\" >23.000000</td>\n",
       "      <td id=\"T_e5764_row3_col5\" class=\"data row3 col5\" >2.000000</td>\n",
       "      <td id=\"T_e5764_row3_col6\" class=\"data row3 col6\" >b'[2-3]'</td>\n",
       "      <td id=\"T_e5764_row3_col7\" class=\"data row3 col7\" >b'Asian/Pacific Islander/Asian-American'</td>\n",
       "      <td id=\"T_e5764_row3_col8\" class=\"data row3 col8\" >b'European/Caucasian-American'</td>\n",
       "      <td id=\"T_e5764_row3_col9\" class=\"data row3 col9\" >b'0'</td>\n",
       "      <td id=\"T_e5764_row3_col10\" class=\"data row3 col10\" >2.000000</td>\n",
       "      <td id=\"T_e5764_row3_col11\" class=\"data row3 col11\" >4.000000</td>\n",
       "      <td id=\"T_e5764_row3_col12\" class=\"data row3 col12\" >b'[2-5]'</td>\n",
       "      <td id=\"T_e5764_row3_col13\" class=\"data row3 col13\" >b'[2-5]'</td>\n",
       "      <td id=\"T_e5764_row3_col14\" class=\"data row3 col14\" >b'Law'</td>\n",
       "      <td id=\"T_e5764_row3_col15\" class=\"data row3 col15\" >30.000000</td>\n",
       "      <td id=\"T_e5764_row3_col16\" class=\"data row3 col16\" >5.000000</td>\n",
       "      <td id=\"T_e5764_row3_col17\" class=\"data row3 col17\" >15.000000</td>\n",
       "      <td id=\"T_e5764_row3_col18\" class=\"data row3 col18\" >40.000000</td>\n",
       "      <td id=\"T_e5764_row3_col19\" class=\"data row3 col19\" >5.000000</td>\n",
       "      <td id=\"T_e5764_row3_col20\" class=\"data row3 col20\" >5.000000</td>\n",
       "      <td id=\"T_e5764_row3_col21\" class=\"data row3 col21\" >b'[21-100]'</td>\n",
       "      <td id=\"T_e5764_row3_col22\" class=\"data row3 col22\" >b'[0-15]'</td>\n",
       "      <td id=\"T_e5764_row3_col23\" class=\"data row3 col23\" >b'[0-15]'</td>\n",
       "      <td id=\"T_e5764_row3_col24\" class=\"data row3 col24\" >b'[21-100]'</td>\n",
       "      <td id=\"T_e5764_row3_col25\" class=\"data row3 col25\" >b'[0-15]'</td>\n",
       "      <td id=\"T_e5764_row3_col26\" class=\"data row3 col26\" >b'[0-15]'</td>\n",
       "      <td id=\"T_e5764_row3_col27\" class=\"data row3 col27\" >7.000000</td>\n",
       "      <td id=\"T_e5764_row3_col28\" class=\"data row3 col28\" >8.000000</td>\n",
       "      <td id=\"T_e5764_row3_col29\" class=\"data row3 col29\" >9.000000</td>\n",
       "      <td id=\"T_e5764_row3_col30\" class=\"data row3 col30\" >8.000000</td>\n",
       "      <td id=\"T_e5764_row3_col31\" class=\"data row3 col31\" >9.000000</td>\n",
       "      <td id=\"T_e5764_row3_col32\" class=\"data row3 col32\" >8.000000</td>\n",
       "      <td id=\"T_e5764_row3_col33\" class=\"data row3 col33\" >b'[6-8]'</td>\n",
       "      <td id=\"T_e5764_row3_col34\" class=\"data row3 col34\" >b'[6-8]'</td>\n",
       "      <td id=\"T_e5764_row3_col35\" class=\"data row3 col35\" >b'[9-10]'</td>\n",
       "      <td id=\"T_e5764_row3_col36\" class=\"data row3 col36\" >b'[6-8]'</td>\n",
       "      <td id=\"T_e5764_row3_col37\" class=\"data row3 col37\" >b'[9-10]'</td>\n",
       "      <td id=\"T_e5764_row3_col38\" class=\"data row3 col38\" >b'[6-8]'</td>\n",
       "      <td id=\"T_e5764_row3_col39\" class=\"data row3 col39\" >15.000000</td>\n",
       "      <td id=\"T_e5764_row3_col40\" class=\"data row3 col40\" >20.000000</td>\n",
       "      <td id=\"T_e5764_row3_col41\" class=\"data row3 col41\" >20.000000</td>\n",
       "      <td id=\"T_e5764_row3_col42\" class=\"data row3 col42\" >15.000000</td>\n",
       "      <td id=\"T_e5764_row3_col43\" class=\"data row3 col43\" >15.000000</td>\n",
       "      <td id=\"T_e5764_row3_col44\" class=\"data row3 col44\" >15.000000</td>\n",
       "      <td id=\"T_e5764_row3_col45\" class=\"data row3 col45\" >b'[0-15]'</td>\n",
       "      <td id=\"T_e5764_row3_col46\" class=\"data row3 col46\" >b'[16-20]'</td>\n",
       "      <td id=\"T_e5764_row3_col47\" class=\"data row3 col47\" >b'[16-20]'</td>\n",
       "      <td id=\"T_e5764_row3_col48\" class=\"data row3 col48\" >b'[0-15]'</td>\n",
       "      <td id=\"T_e5764_row3_col49\" class=\"data row3 col49\" >b'[0-15]'</td>\n",
       "      <td id=\"T_e5764_row3_col50\" class=\"data row3 col50\" >b'[0-15]'</td>\n",
       "      <td id=\"T_e5764_row3_col51\" class=\"data row3 col51\" >6.000000</td>\n",
       "      <td id=\"T_e5764_row3_col52\" class=\"data row3 col52\" >8.000000</td>\n",
       "      <td id=\"T_e5764_row3_col53\" class=\"data row3 col53\" >8.000000</td>\n",
       "      <td id=\"T_e5764_row3_col54\" class=\"data row3 col54\" >8.000000</td>\n",
       "      <td id=\"T_e5764_row3_col55\" class=\"data row3 col55\" >7.000000</td>\n",
       "      <td id=\"T_e5764_row3_col56\" class=\"data row3 col56\" >b'[6-8]'</td>\n",
       "      <td id=\"T_e5764_row3_col57\" class=\"data row3 col57\" >b'[6-8]'</td>\n",
       "      <td id=\"T_e5764_row3_col58\" class=\"data row3 col58\" >b'[6-8]'</td>\n",
       "      <td id=\"T_e5764_row3_col59\" class=\"data row3 col59\" >b'[6-8]'</td>\n",
       "      <td id=\"T_e5764_row3_col60\" class=\"data row3 col60\" >b'[6-8]'</td>\n",
       "      <td id=\"T_e5764_row3_col61\" class=\"data row3 col61\" >7.000000</td>\n",
       "      <td id=\"T_e5764_row3_col62\" class=\"data row3 col62\" >6.000000</td>\n",
       "      <td id=\"T_e5764_row3_col63\" class=\"data row3 col63\" >8.000000</td>\n",
       "      <td id=\"T_e5764_row3_col64\" class=\"data row3 col64\" >7.000000</td>\n",
       "      <td id=\"T_e5764_row3_col65\" class=\"data row3 col65\" >6.000000</td>\n",
       "      <td id=\"T_e5764_row3_col66\" class=\"data row3 col66\" >8.000000</td>\n",
       "      <td id=\"T_e5764_row3_col67\" class=\"data row3 col67\" >b'[6-8]'</td>\n",
       "      <td id=\"T_e5764_row3_col68\" class=\"data row3 col68\" >b'[6-8]'</td>\n",
       "      <td id=\"T_e5764_row3_col69\" class=\"data row3 col69\" >b'[6-8]'</td>\n",
       "      <td id=\"T_e5764_row3_col70\" class=\"data row3 col70\" >b'[6-8]'</td>\n",
       "      <td id=\"T_e5764_row3_col71\" class=\"data row3 col71\" >b'[6-8]'</td>\n",
       "      <td id=\"T_e5764_row3_col72\" class=\"data row3 col72\" >b'[6-8]'</td>\n",
       "      <td id=\"T_e5764_row3_col73\" class=\"data row3 col73\" >9.000000</td>\n",
       "      <td id=\"T_e5764_row3_col74\" class=\"data row3 col74\" >2.000000</td>\n",
       "      <td id=\"T_e5764_row3_col75\" class=\"data row3 col75\" >8.000000</td>\n",
       "      <td id=\"T_e5764_row3_col76\" class=\"data row3 col76\" >9.000000</td>\n",
       "      <td id=\"T_e5764_row3_col77\" class=\"data row3 col77\" >1.000000</td>\n",
       "      <td id=\"T_e5764_row3_col78\" class=\"data row3 col78\" >1.000000</td>\n",
       "      <td id=\"T_e5764_row3_col79\" class=\"data row3 col79\" >5.000000</td>\n",
       "      <td id=\"T_e5764_row3_col80\" class=\"data row3 col80\" >1.000000</td>\n",
       "      <td id=\"T_e5764_row3_col81\" class=\"data row3 col81\" >5.000000</td>\n",
       "      <td id=\"T_e5764_row3_col82\" class=\"data row3 col82\" >6.000000</td>\n",
       "      <td id=\"T_e5764_row3_col83\" class=\"data row3 col83\" >9.000000</td>\n",
       "      <td id=\"T_e5764_row3_col84\" class=\"data row3 col84\" >1.000000</td>\n",
       "      <td id=\"T_e5764_row3_col85\" class=\"data row3 col85\" >10.000000</td>\n",
       "      <td id=\"T_e5764_row3_col86\" class=\"data row3 col86\" >10.000000</td>\n",
       "      <td id=\"T_e5764_row3_col87\" class=\"data row3 col87\" >9.000000</td>\n",
       "      <td id=\"T_e5764_row3_col88\" class=\"data row3 col88\" >8.000000</td>\n",
       "      <td id=\"T_e5764_row3_col89\" class=\"data row3 col89\" >1.000000</td>\n",
       "      <td id=\"T_e5764_row3_col90\" class=\"data row3 col90\" >b'[9-10]'</td>\n",
       "      <td id=\"T_e5764_row3_col91\" class=\"data row3 col91\" >b'[0-5]'</td>\n",
       "      <td id=\"T_e5764_row3_col92\" class=\"data row3 col92\" >b'[6-8]'</td>\n",
       "      <td id=\"T_e5764_row3_col93\" class=\"data row3 col93\" >b'[9-10]'</td>\n",
       "      <td id=\"T_e5764_row3_col94\" class=\"data row3 col94\" >b'[0-5]'</td>\n",
       "      <td id=\"T_e5764_row3_col95\" class=\"data row3 col95\" >b'[0-5]'</td>\n",
       "      <td id=\"T_e5764_row3_col96\" class=\"data row3 col96\" >b'[0-5]'</td>\n",
       "      <td id=\"T_e5764_row3_col97\" class=\"data row3 col97\" >b'[0-5]'</td>\n",
       "      <td id=\"T_e5764_row3_col98\" class=\"data row3 col98\" >b'[0-5]'</td>\n",
       "      <td id=\"T_e5764_row3_col99\" class=\"data row3 col99\" >b'[6-8]'</td>\n",
       "      <td id=\"T_e5764_row3_col100\" class=\"data row3 col100\" >b'[9-10]'</td>\n",
       "      <td id=\"T_e5764_row3_col101\" class=\"data row3 col101\" >b'[0-5]'</td>\n",
       "      <td id=\"T_e5764_row3_col102\" class=\"data row3 col102\" >b'[9-10]'</td>\n",
       "      <td id=\"T_e5764_row3_col103\" class=\"data row3 col103\" >b'[9-10]'</td>\n",
       "      <td id=\"T_e5764_row3_col104\" class=\"data row3 col104\" >b'[9-10]'</td>\n",
       "      <td id=\"T_e5764_row3_col105\" class=\"data row3 col105\" >b'[6-8]'</td>\n",
       "      <td id=\"T_e5764_row3_col106\" class=\"data row3 col106\" >b'[0-5]'</td>\n",
       "      <td id=\"T_e5764_row3_col107\" class=\"data row3 col107\" >0.610000</td>\n",
       "      <td id=\"T_e5764_row3_col108\" class=\"data row3 col108\" >b'[0.33-1]'</td>\n",
       "      <td id=\"T_e5764_row3_col109\" class=\"data row3 col109\" >3.000000</td>\n",
       "      <td id=\"T_e5764_row3_col110\" class=\"data row3 col110\" >2.000000</td>\n",
       "      <td id=\"T_e5764_row3_col111\" class=\"data row3 col111\" >4.000000</td>\n",
       "      <td id=\"T_e5764_row3_col112\" class=\"data row3 col112\" >b'[0-4]'</td>\n",
       "      <td id=\"T_e5764_row3_col113\" class=\"data row3 col113\" >b'[0-3]'</td>\n",
       "      <td id=\"T_e5764_row3_col114\" class=\"data row3 col114\" >b'[3-5]'</td>\n",
       "      <td id=\"T_e5764_row3_col115\" class=\"data row3 col115\" >7.000000</td>\n",
       "      <td id=\"T_e5764_row3_col116\" class=\"data row3 col116\" >6.000000</td>\n",
       "      <td id=\"T_e5764_row3_col117\" class=\"data row3 col117\" >b'[6-8]'</td>\n",
       "      <td id=\"T_e5764_row3_col118\" class=\"data row3 col118\" >b'[5-6]'</td>\n",
       "      <td id=\"T_e5764_row3_col119\" class=\"data row3 col119\" >0.000000</td>\n",
       "      <td id=\"T_e5764_row3_col120\" class=\"data row3 col120\" >b'1'</td>\n",
       "      <td id=\"T_e5764_row3_col121\" class=\"data row3 col121\" >b'1'</td>\n",
       "      <td id=\"T_e5764_row3_col122\" class=\"data row3 col122\" >b'1'</td>\n",
       "    </tr>\n",
       "    <tr>\n",
       "      <th id=\"T_e5764_level0_row4\" class=\"row_heading level0 row4\" >4</th>\n",
       "      <td id=\"T_e5764_row4_col0\" class=\"data row4 col0\" >b''</td>\n",
       "      <td id=\"T_e5764_row4_col1\" class=\"data row4 col1\" >1.000000</td>\n",
       "      <td id=\"T_e5764_row4_col2\" class=\"data row4 col2\" >b'female'</td>\n",
       "      <td id=\"T_e5764_row4_col3\" class=\"data row4 col3\" >21.000000</td>\n",
       "      <td id=\"T_e5764_row4_col4\" class=\"data row4 col4\" >24.000000</td>\n",
       "      <td id=\"T_e5764_row4_col5\" class=\"data row4 col5\" >3.000000</td>\n",
       "      <td id=\"T_e5764_row4_col6\" class=\"data row4 col6\" >b'[2-3]'</td>\n",
       "      <td id=\"T_e5764_row4_col7\" class=\"data row4 col7\" >b'Asian/Pacific Islander/Asian-American'</td>\n",
       "      <td id=\"T_e5764_row4_col8\" class=\"data row4 col8\" >b'Latino/Hispanic American'</td>\n",
       "      <td id=\"T_e5764_row4_col9\" class=\"data row4 col9\" >b'0'</td>\n",
       "      <td id=\"T_e5764_row4_col10\" class=\"data row4 col10\" >2.000000</td>\n",
       "      <td id=\"T_e5764_row4_col11\" class=\"data row4 col11\" >4.000000</td>\n",
       "      <td id=\"T_e5764_row4_col12\" class=\"data row4 col12\" >b'[2-5]'</td>\n",
       "      <td id=\"T_e5764_row4_col13\" class=\"data row4 col13\" >b'[2-5]'</td>\n",
       "      <td id=\"T_e5764_row4_col14\" class=\"data row4 col14\" >b'Law'</td>\n",
       "      <td id=\"T_e5764_row4_col15\" class=\"data row4 col15\" >30.000000</td>\n",
       "      <td id=\"T_e5764_row4_col16\" class=\"data row4 col16\" >10.000000</td>\n",
       "      <td id=\"T_e5764_row4_col17\" class=\"data row4 col17\" >20.000000</td>\n",
       "      <td id=\"T_e5764_row4_col18\" class=\"data row4 col18\" >10.000000</td>\n",
       "      <td id=\"T_e5764_row4_col19\" class=\"data row4 col19\" >10.000000</td>\n",
       "      <td id=\"T_e5764_row4_col20\" class=\"data row4 col20\" >20.000000</td>\n",
       "      <td id=\"T_e5764_row4_col21\" class=\"data row4 col21\" >b'[21-100]'</td>\n",
       "      <td id=\"T_e5764_row4_col22\" class=\"data row4 col22\" >b'[0-15]'</td>\n",
       "      <td id=\"T_e5764_row4_col23\" class=\"data row4 col23\" >b'[16-20]'</td>\n",
       "      <td id=\"T_e5764_row4_col24\" class=\"data row4 col24\" >b'[0-15]'</td>\n",
       "      <td id=\"T_e5764_row4_col25\" class=\"data row4 col25\" >b'[0-15]'</td>\n",
       "      <td id=\"T_e5764_row4_col26\" class=\"data row4 col26\" >b'[16-20]'</td>\n",
       "      <td id=\"T_e5764_row4_col27\" class=\"data row4 col27\" >8.000000</td>\n",
       "      <td id=\"T_e5764_row4_col28\" class=\"data row4 col28\" >7.000000</td>\n",
       "      <td id=\"T_e5764_row4_col29\" class=\"data row4 col29\" >9.000000</td>\n",
       "      <td id=\"T_e5764_row4_col30\" class=\"data row4 col30\" >6.000000</td>\n",
       "      <td id=\"T_e5764_row4_col31\" class=\"data row4 col31\" >9.000000</td>\n",
       "      <td id=\"T_e5764_row4_col32\" class=\"data row4 col32\" >7.000000</td>\n",
       "      <td id=\"T_e5764_row4_col33\" class=\"data row4 col33\" >b'[6-8]'</td>\n",
       "      <td id=\"T_e5764_row4_col34\" class=\"data row4 col34\" >b'[6-8]'</td>\n",
       "      <td id=\"T_e5764_row4_col35\" class=\"data row4 col35\" >b'[9-10]'</td>\n",
       "      <td id=\"T_e5764_row4_col36\" class=\"data row4 col36\" >b'[6-8]'</td>\n",
       "      <td id=\"T_e5764_row4_col37\" class=\"data row4 col37\" >b'[9-10]'</td>\n",
       "      <td id=\"T_e5764_row4_col38\" class=\"data row4 col38\" >b'[6-8]'</td>\n",
       "      <td id=\"T_e5764_row4_col39\" class=\"data row4 col39\" >15.000000</td>\n",
       "      <td id=\"T_e5764_row4_col40\" class=\"data row4 col40\" >20.000000</td>\n",
       "      <td id=\"T_e5764_row4_col41\" class=\"data row4 col41\" >20.000000</td>\n",
       "      <td id=\"T_e5764_row4_col42\" class=\"data row4 col42\" >15.000000</td>\n",
       "      <td id=\"T_e5764_row4_col43\" class=\"data row4 col43\" >15.000000</td>\n",
       "      <td id=\"T_e5764_row4_col44\" class=\"data row4 col44\" >15.000000</td>\n",
       "      <td id=\"T_e5764_row4_col45\" class=\"data row4 col45\" >b'[0-15]'</td>\n",
       "      <td id=\"T_e5764_row4_col46\" class=\"data row4 col46\" >b'[16-20]'</td>\n",
       "      <td id=\"T_e5764_row4_col47\" class=\"data row4 col47\" >b'[16-20]'</td>\n",
       "      <td id=\"T_e5764_row4_col48\" class=\"data row4 col48\" >b'[0-15]'</td>\n",
       "      <td id=\"T_e5764_row4_col49\" class=\"data row4 col49\" >b'[0-15]'</td>\n",
       "      <td id=\"T_e5764_row4_col50\" class=\"data row4 col50\" >b'[0-15]'</td>\n",
       "      <td id=\"T_e5764_row4_col51\" class=\"data row4 col51\" >6.000000</td>\n",
       "      <td id=\"T_e5764_row4_col52\" class=\"data row4 col52\" >8.000000</td>\n",
       "      <td id=\"T_e5764_row4_col53\" class=\"data row4 col53\" >8.000000</td>\n",
       "      <td id=\"T_e5764_row4_col54\" class=\"data row4 col54\" >8.000000</td>\n",
       "      <td id=\"T_e5764_row4_col55\" class=\"data row4 col55\" >7.000000</td>\n",
       "      <td id=\"T_e5764_row4_col56\" class=\"data row4 col56\" >b'[6-8]'</td>\n",
       "      <td id=\"T_e5764_row4_col57\" class=\"data row4 col57\" >b'[6-8]'</td>\n",
       "      <td id=\"T_e5764_row4_col58\" class=\"data row4 col58\" >b'[6-8]'</td>\n",
       "      <td id=\"T_e5764_row4_col59\" class=\"data row4 col59\" >b'[6-8]'</td>\n",
       "      <td id=\"T_e5764_row4_col60\" class=\"data row4 col60\" >b'[6-8]'</td>\n",
       "      <td id=\"T_e5764_row4_col61\" class=\"data row4 col61\" >5.000000</td>\n",
       "      <td id=\"T_e5764_row4_col62\" class=\"data row4 col62\" >6.000000</td>\n",
       "      <td id=\"T_e5764_row4_col63\" class=\"data row4 col63\" >7.000000</td>\n",
       "      <td id=\"T_e5764_row4_col64\" class=\"data row4 col64\" >7.000000</td>\n",
       "      <td id=\"T_e5764_row4_col65\" class=\"data row4 col65\" >6.000000</td>\n",
       "      <td id=\"T_e5764_row4_col66\" class=\"data row4 col66\" >6.000000</td>\n",
       "      <td id=\"T_e5764_row4_col67\" class=\"data row4 col67\" >b'[0-5]'</td>\n",
       "      <td id=\"T_e5764_row4_col68\" class=\"data row4 col68\" >b'[6-8]'</td>\n",
       "      <td id=\"T_e5764_row4_col69\" class=\"data row4 col69\" >b'[6-8]'</td>\n",
       "      <td id=\"T_e5764_row4_col70\" class=\"data row4 col70\" >b'[6-8]'</td>\n",
       "      <td id=\"T_e5764_row4_col71\" class=\"data row4 col71\" >b'[6-8]'</td>\n",
       "      <td id=\"T_e5764_row4_col72\" class=\"data row4 col72\" >b'[6-8]'</td>\n",
       "      <td id=\"T_e5764_row4_col73\" class=\"data row4 col73\" >9.000000</td>\n",
       "      <td id=\"T_e5764_row4_col74\" class=\"data row4 col74\" >2.000000</td>\n",
       "      <td id=\"T_e5764_row4_col75\" class=\"data row4 col75\" >8.000000</td>\n",
       "      <td id=\"T_e5764_row4_col76\" class=\"data row4 col76\" >9.000000</td>\n",
       "      <td id=\"T_e5764_row4_col77\" class=\"data row4 col77\" >1.000000</td>\n",
       "      <td id=\"T_e5764_row4_col78\" class=\"data row4 col78\" >1.000000</td>\n",
       "      <td id=\"T_e5764_row4_col79\" class=\"data row4 col79\" >5.000000</td>\n",
       "      <td id=\"T_e5764_row4_col80\" class=\"data row4 col80\" >1.000000</td>\n",
       "      <td id=\"T_e5764_row4_col81\" class=\"data row4 col81\" >5.000000</td>\n",
       "      <td id=\"T_e5764_row4_col82\" class=\"data row4 col82\" >6.000000</td>\n",
       "      <td id=\"T_e5764_row4_col83\" class=\"data row4 col83\" >9.000000</td>\n",
       "      <td id=\"T_e5764_row4_col84\" class=\"data row4 col84\" >1.000000</td>\n",
       "      <td id=\"T_e5764_row4_col85\" class=\"data row4 col85\" >10.000000</td>\n",
       "      <td id=\"T_e5764_row4_col86\" class=\"data row4 col86\" >10.000000</td>\n",
       "      <td id=\"T_e5764_row4_col87\" class=\"data row4 col87\" >9.000000</td>\n",
       "      <td id=\"T_e5764_row4_col88\" class=\"data row4 col88\" >8.000000</td>\n",
       "      <td id=\"T_e5764_row4_col89\" class=\"data row4 col89\" >1.000000</td>\n",
       "      <td id=\"T_e5764_row4_col90\" class=\"data row4 col90\" >b'[9-10]'</td>\n",
       "      <td id=\"T_e5764_row4_col91\" class=\"data row4 col91\" >b'[0-5]'</td>\n",
       "      <td id=\"T_e5764_row4_col92\" class=\"data row4 col92\" >b'[6-8]'</td>\n",
       "      <td id=\"T_e5764_row4_col93\" class=\"data row4 col93\" >b'[9-10]'</td>\n",
       "      <td id=\"T_e5764_row4_col94\" class=\"data row4 col94\" >b'[0-5]'</td>\n",
       "      <td id=\"T_e5764_row4_col95\" class=\"data row4 col95\" >b'[0-5]'</td>\n",
       "      <td id=\"T_e5764_row4_col96\" class=\"data row4 col96\" >b'[0-5]'</td>\n",
       "      <td id=\"T_e5764_row4_col97\" class=\"data row4 col97\" >b'[0-5]'</td>\n",
       "      <td id=\"T_e5764_row4_col98\" class=\"data row4 col98\" >b'[0-5]'</td>\n",
       "      <td id=\"T_e5764_row4_col99\" class=\"data row4 col99\" >b'[6-8]'</td>\n",
       "      <td id=\"T_e5764_row4_col100\" class=\"data row4 col100\" >b'[9-10]'</td>\n",
       "      <td id=\"T_e5764_row4_col101\" class=\"data row4 col101\" >b'[0-5]'</td>\n",
       "      <td id=\"T_e5764_row4_col102\" class=\"data row4 col102\" >b'[9-10]'</td>\n",
       "      <td id=\"T_e5764_row4_col103\" class=\"data row4 col103\" >b'[9-10]'</td>\n",
       "      <td id=\"T_e5764_row4_col104\" class=\"data row4 col104\" >b'[9-10]'</td>\n",
       "      <td id=\"T_e5764_row4_col105\" class=\"data row4 col105\" >b'[6-8]'</td>\n",
       "      <td id=\"T_e5764_row4_col106\" class=\"data row4 col106\" >b'[0-5]'</td>\n",
       "      <td id=\"T_e5764_row4_col107\" class=\"data row4 col107\" >0.210000</td>\n",
       "      <td id=\"T_e5764_row4_col108\" class=\"data row4 col108\" >b'[0-0.33]'</td>\n",
       "      <td id=\"T_e5764_row4_col109\" class=\"data row4 col109\" >3.000000</td>\n",
       "      <td id=\"T_e5764_row4_col110\" class=\"data row4 col110\" >2.000000</td>\n",
       "      <td id=\"T_e5764_row4_col111\" class=\"data row4 col111\" >4.000000</td>\n",
       "      <td id=\"T_e5764_row4_col112\" class=\"data row4 col112\" >b'[0-4]'</td>\n",
       "      <td id=\"T_e5764_row4_col113\" class=\"data row4 col113\" >b'[0-3]'</td>\n",
       "      <td id=\"T_e5764_row4_col114\" class=\"data row4 col114\" >b'[3-5]'</td>\n",
       "      <td id=\"T_e5764_row4_col115\" class=\"data row4 col115\" >6.000000</td>\n",
       "      <td id=\"T_e5764_row4_col116\" class=\"data row4 col116\" >6.000000</td>\n",
       "      <td id=\"T_e5764_row4_col117\" class=\"data row4 col117\" >b'[6-8]'</td>\n",
       "      <td id=\"T_e5764_row4_col118\" class=\"data row4 col118\" >b'[5-6]'</td>\n",
       "      <td id=\"T_e5764_row4_col119\" class=\"data row4 col119\" >0.000000</td>\n",
       "      <td id=\"T_e5764_row4_col120\" class=\"data row4 col120\" >b'1'</td>\n",
       "      <td id=\"T_e5764_row4_col121\" class=\"data row4 col121\" >b'1'</td>\n",
       "      <td id=\"T_e5764_row4_col122\" class=\"data row4 col122\" >b'1'</td>\n",
       "    </tr>\n",
       "  </tbody>\n",
       "</table>\n"
      ],
      "text/plain": [
       "<pandas.io.formats.style.Styler at 0x7f5eee752590>"
      ]
     },
     "execution_count": 28,
     "metadata": {},
     "output_type": "execute_result"
    }
   ],
   "source": [
    "df_speeddating = pd.read_csv(\"speeddating.csv\")\n",
    "\n",
    "df_speeddating.head(5).style.set_caption(\"Table 1: Initial reading of data\")"
   ]
  },
  {
   "cell_type": "markdown",
   "id": "66fa8c0a-0ebf-402f-9a54-3548c72ad6e6",
   "metadata": {},
   "source": [
    "#### Cleaning and wrangling data\n",
    "Next, we will make our speed dating data suitable for our analysis. First, we extract the six attribute columns (attractive_partner, sincere_partner, intelligence_partner, humour_partner, ambition_partner, shared_interests_partner) and the class column (match) that are required for this analysis using square brackets. Then, by using .dropna(), we remove the rows that contain NULL value, \"NaN\". We will also rename the values of the class column \"match\" from b'0' to \"fail\" and b'1' to \"success\". Moreover, we must convert the \"match\" column stored as an object type to a categorical type. \n"
   ]
  },
  {
   "cell_type": "code",
   "execution_count": 29,
   "id": "fa9a9fbb-f4c4-4d5f-a0f7-e097bbf41b62",
   "metadata": {},
   "outputs": [
    {
     "data": {
      "text/html": [
       "<style type=\"text/css\">\n",
       "</style>\n",
       "<table id=\"T_5c00d\">\n",
       "  <caption>Table 2: Cleaned dataframe</caption>\n",
       "  <thead>\n",
       "    <tr>\n",
       "      <th class=\"blank level0\" >&nbsp;</th>\n",
       "      <th id=\"T_5c00d_level0_col0\" class=\"col_heading level0 col0\" >match</th>\n",
       "      <th id=\"T_5c00d_level0_col1\" class=\"col_heading level0 col1\" >attractive_partner</th>\n",
       "      <th id=\"T_5c00d_level0_col2\" class=\"col_heading level0 col2\" >sincere_partner</th>\n",
       "      <th id=\"T_5c00d_level0_col3\" class=\"col_heading level0 col3\" >intelligence_partner</th>\n",
       "      <th id=\"T_5c00d_level0_col4\" class=\"col_heading level0 col4\" >humour_partner</th>\n",
       "      <th id=\"T_5c00d_level0_col5\" class=\"col_heading level0 col5\" >ambition_partner</th>\n",
       "      <th id=\"T_5c00d_level0_col6\" class=\"col_heading level0 col6\" >shared_interests_partner</th>\n",
       "    </tr>\n",
       "  </thead>\n",
       "  <tbody>\n",
       "    <tr>\n",
       "      <th id=\"T_5c00d_level0_row0\" class=\"row_heading level0 row0\" >3852</th>\n",
       "      <td id=\"T_5c00d_row0_col0\" class=\"data row0 col0\" >fail</td>\n",
       "      <td id=\"T_5c00d_row0_col1\" class=\"data row0 col1\" >9.000000</td>\n",
       "      <td id=\"T_5c00d_row0_col2\" class=\"data row0 col2\" >8.000000</td>\n",
       "      <td id=\"T_5c00d_row0_col3\" class=\"data row0 col3\" >8.000000</td>\n",
       "      <td id=\"T_5c00d_row0_col4\" class=\"data row0 col4\" >8.000000</td>\n",
       "      <td id=\"T_5c00d_row0_col5\" class=\"data row0 col5\" >6.000000</td>\n",
       "      <td id=\"T_5c00d_row0_col6\" class=\"data row0 col6\" >2.000000</td>\n",
       "    </tr>\n",
       "    <tr>\n",
       "      <th id=\"T_5c00d_level0_row1\" class=\"row_heading level0 row1\" >1938</th>\n",
       "      <td id=\"T_5c00d_row1_col0\" class=\"data row1 col0\" >fail</td>\n",
       "      <td id=\"T_5c00d_row1_col1\" class=\"data row1 col1\" >5.000000</td>\n",
       "      <td id=\"T_5c00d_row1_col2\" class=\"data row1 col2\" >5.000000</td>\n",
       "      <td id=\"T_5c00d_row1_col3\" class=\"data row1 col3\" >6.000000</td>\n",
       "      <td id=\"T_5c00d_row1_col4\" class=\"data row1 col4\" >6.000000</td>\n",
       "      <td id=\"T_5c00d_row1_col5\" class=\"data row1 col5\" >5.000000</td>\n",
       "      <td id=\"T_5c00d_row1_col6\" class=\"data row1 col6\" >5.000000</td>\n",
       "    </tr>\n",
       "    <tr>\n",
       "      <th id=\"T_5c00d_level0_row2\" class=\"row_heading level0 row2\" >4879</th>\n",
       "      <td id=\"T_5c00d_row2_col0\" class=\"data row2 col0\" >fail</td>\n",
       "      <td id=\"T_5c00d_row2_col1\" class=\"data row2 col1\" >7.000000</td>\n",
       "      <td id=\"T_5c00d_row2_col2\" class=\"data row2 col2\" >5.000000</td>\n",
       "      <td id=\"T_5c00d_row2_col3\" class=\"data row2 col3\" >6.000000</td>\n",
       "      <td id=\"T_5c00d_row2_col4\" class=\"data row2 col4\" >4.000000</td>\n",
       "      <td id=\"T_5c00d_row2_col5\" class=\"data row2 col5\" >5.000000</td>\n",
       "      <td id=\"T_5c00d_row2_col6\" class=\"data row2 col6\" >5.000000</td>\n",
       "    </tr>\n",
       "    <tr>\n",
       "      <th id=\"T_5c00d_level0_row3\" class=\"row_heading level0 row3\" >1619</th>\n",
       "      <td id=\"T_5c00d_row3_col0\" class=\"data row3 col0\" >fail</td>\n",
       "      <td id=\"T_5c00d_row3_col1\" class=\"data row3 col1\" >7.000000</td>\n",
       "      <td id=\"T_5c00d_row3_col2\" class=\"data row3 col2\" >10.000000</td>\n",
       "      <td id=\"T_5c00d_row3_col3\" class=\"data row3 col3\" >8.000000</td>\n",
       "      <td id=\"T_5c00d_row3_col4\" class=\"data row3 col4\" >7.000000</td>\n",
       "      <td id=\"T_5c00d_row3_col5\" class=\"data row3 col5\" >7.000000</td>\n",
       "      <td id=\"T_5c00d_row3_col6\" class=\"data row3 col6\" >3.000000</td>\n",
       "    </tr>\n",
       "    <tr>\n",
       "      <th id=\"T_5c00d_level0_row4\" class=\"row_heading level0 row4\" >3151</th>\n",
       "      <td id=\"T_5c00d_row4_col0\" class=\"data row4 col0\" >fail</td>\n",
       "      <td id=\"T_5c00d_row4_col1\" class=\"data row4 col1\" >7.000000</td>\n",
       "      <td id=\"T_5c00d_row4_col2\" class=\"data row4 col2\" >6.000000</td>\n",
       "      <td id=\"T_5c00d_row4_col3\" class=\"data row4 col3\" >7.000000</td>\n",
       "      <td id=\"T_5c00d_row4_col4\" class=\"data row4 col4\" >6.000000</td>\n",
       "      <td id=\"T_5c00d_row4_col5\" class=\"data row4 col5\" >6.000000</td>\n",
       "      <td id=\"T_5c00d_row4_col6\" class=\"data row4 col6\" >5.000000</td>\n",
       "    </tr>\n",
       "  </tbody>\n",
       "</table>\n"
      ],
      "text/plain": [
       "<pandas.io.formats.style.Styler at 0x7f5ee39183d0>"
      ]
     },
     "execution_count": 29,
     "metadata": {},
     "output_type": "execute_result"
    }
   ],
   "source": [
    "speeddating = df_speeddating[[\"match\",\"attractive_partner\", \"sincere_partner\",\"intelligence_partner\", \"funny_partner\", \"ambition_partner\", \"shared_interests_partner\"]]\n",
    "\n",
    "speeddating = speeddating.sample(n=1000, random_state=2023).dropna()\n",
    "\n",
    "speeddating = speeddating.rename(columns={\"funny_partner\":\"humour_partner\"})\n",
    "\n",
    "speeddating[\"match\"] = speeddating[\"match\"].replace({\"b'0'\":\"fail\",\"b'1'\":\"success\"}).astype(\"category\")\n",
    "speeddating.head(5).style.set_caption(\"Table 2: Cleaned dataframe\")"
   ]
  },
  {
   "cell_type": "markdown",
   "id": "01f847d2-f522-423e-b11f-83c8c3a93499",
   "metadata": {},
   "source": [
    "#### Summary of Speeddating Data\n",
    "Our cleaned daaframe has seven columns of one category type and six numeric types. The numeric types are each categories of an attribute rated by the partner on a scale from 1 to 10. The categorical type indicates whether the match was successful or not and is what we are trying to predict.\n",
    "\n",
    "\n",
    "\n",
    "We can see that our data is now organised and prepared to be divided into train and test sets using the info function. "
   ]
  },
  {
   "cell_type": "code",
   "execution_count": 33,
   "id": "554bbdfa-f316-4ad1-b0bb-79623b926c53",
   "metadata": {},
   "outputs": [
    {
     "name": "stdout",
     "output_type": "stream",
     "text": [
      "<class 'pandas.core.frame.DataFrame'>\n",
      "Int64Index: 826 entries, 3852 to 58\n",
      "Data columns (total 7 columns):\n",
      " #   Column                    Non-Null Count  Dtype   \n",
      "---  ------                    --------------  -----   \n",
      " 0   match                     826 non-null    category\n",
      " 1   attractive_partner        826 non-null    float64 \n",
      " 2   sincere_partner           826 non-null    float64 \n",
      " 3   intelligence_partner      826 non-null    float64 \n",
      " 4   humour_partner            826 non-null    float64 \n",
      " 5   ambition_partner          826 non-null    float64 \n",
      " 6   shared_interests_partner  826 non-null    float64 \n",
      "dtypes: category(1), float64(6)\n",
      "memory usage: 46.1 KB\n"
     ]
    }
   ],
   "source": [
    "speeddating.info()"
   ]
  },
  {
   "cell_type": "markdown",
   "id": "04318dda-8a50-4a2c-b43e-51832dd2e9db",
   "metadata": {
    "tags": []
   },
   "source": [
    "#### Creating the training and test sets\n",
    "Next, we will split the cleaned speed-dating data into a training and testing set. We will then use the training set to perform an exploratory analysis on the six variables and to explore the dataset. After making the classifier to predict the \"match\" of speed-dating with training set, we use the test set to evaluate the accuracy of the model to predict the \"match\" on new observation. \n",
    "\n",
    "\n",
    "To preserve the higher proportions of \"fail\" categories, we used the parameter \"stratitfy\" in the train_test_split, which ensures the same proportions of \"success\" and \"fail\" categories are split into the training and testing sets, which decreases bias."
   ]
  },
  {
   "cell_type": "code",
   "execution_count": 34,
   "id": "d9065991-1e29-4949-b18e-5030e9738391",
   "metadata": {},
   "outputs": [
    {
     "data": {
      "text/html": [
       "<style type=\"text/css\">\n",
       "</style>\n",
       "<table id=\"T_51f76\">\n",
       "  <caption>Table 3: Training set of cleaned data</caption>\n",
       "  <thead>\n",
       "    <tr>\n",
       "      <th class=\"blank level0\" >&nbsp;</th>\n",
       "      <th id=\"T_51f76_level0_col0\" class=\"col_heading level0 col0\" >match</th>\n",
       "      <th id=\"T_51f76_level0_col1\" class=\"col_heading level0 col1\" >attractive_partner</th>\n",
       "      <th id=\"T_51f76_level0_col2\" class=\"col_heading level0 col2\" >sincere_partner</th>\n",
       "      <th id=\"T_51f76_level0_col3\" class=\"col_heading level0 col3\" >intelligence_partner</th>\n",
       "      <th id=\"T_51f76_level0_col4\" class=\"col_heading level0 col4\" >humour_partner</th>\n",
       "      <th id=\"T_51f76_level0_col5\" class=\"col_heading level0 col5\" >ambition_partner</th>\n",
       "      <th id=\"T_51f76_level0_col6\" class=\"col_heading level0 col6\" >shared_interests_partner</th>\n",
       "    </tr>\n",
       "  </thead>\n",
       "  <tbody>\n",
       "    <tr>\n",
       "      <th id=\"T_51f76_level0_row0\" class=\"row_heading level0 row0\" >8042</th>\n",
       "      <td id=\"T_51f76_row0_col0\" class=\"data row0 col0\" >fail</td>\n",
       "      <td id=\"T_51f76_row0_col1\" class=\"data row0 col1\" >5.000000</td>\n",
       "      <td id=\"T_51f76_row0_col2\" class=\"data row0 col2\" >8.000000</td>\n",
       "      <td id=\"T_51f76_row0_col3\" class=\"data row0 col3\" >7.000000</td>\n",
       "      <td id=\"T_51f76_row0_col4\" class=\"data row0 col4\" >8.000000</td>\n",
       "      <td id=\"T_51f76_row0_col5\" class=\"data row0 col5\" >5.000000</td>\n",
       "      <td id=\"T_51f76_row0_col6\" class=\"data row0 col6\" >4.000000</td>\n",
       "    </tr>\n",
       "    <tr>\n",
       "      <th id=\"T_51f76_level0_row1\" class=\"row_heading level0 row1\" >6043</th>\n",
       "      <td id=\"T_51f76_row1_col0\" class=\"data row1 col0\" >fail</td>\n",
       "      <td id=\"T_51f76_row1_col1\" class=\"data row1 col1\" >9.500000</td>\n",
       "      <td id=\"T_51f76_row1_col2\" class=\"data row1 col2\" >7.000000</td>\n",
       "      <td id=\"T_51f76_row1_col3\" class=\"data row1 col3\" >7.000000</td>\n",
       "      <td id=\"T_51f76_row1_col4\" class=\"data row1 col4\" >8.000000</td>\n",
       "      <td id=\"T_51f76_row1_col5\" class=\"data row1 col5\" >9.000000</td>\n",
       "      <td id=\"T_51f76_row1_col6\" class=\"data row1 col6\" >6.000000</td>\n",
       "    </tr>\n",
       "    <tr>\n",
       "      <th id=\"T_51f76_level0_row2\" class=\"row_heading level0 row2\" >1340</th>\n",
       "      <td id=\"T_51f76_row2_col0\" class=\"data row2 col0\" >fail</td>\n",
       "      <td id=\"T_51f76_row2_col1\" class=\"data row2 col1\" >6.000000</td>\n",
       "      <td id=\"T_51f76_row2_col2\" class=\"data row2 col2\" >7.000000</td>\n",
       "      <td id=\"T_51f76_row2_col3\" class=\"data row2 col3\" >6.000000</td>\n",
       "      <td id=\"T_51f76_row2_col4\" class=\"data row2 col4\" >6.000000</td>\n",
       "      <td id=\"T_51f76_row2_col5\" class=\"data row2 col5\" >6.000000</td>\n",
       "      <td id=\"T_51f76_row2_col6\" class=\"data row2 col6\" >5.000000</td>\n",
       "    </tr>\n",
       "    <tr>\n",
       "      <th id=\"T_51f76_level0_row3\" class=\"row_heading level0 row3\" >3089</th>\n",
       "      <td id=\"T_51f76_row3_col0\" class=\"data row3 col0\" >fail</td>\n",
       "      <td id=\"T_51f76_row3_col1\" class=\"data row3 col1\" >6.000000</td>\n",
       "      <td id=\"T_51f76_row3_col2\" class=\"data row3 col2\" >7.000000</td>\n",
       "      <td id=\"T_51f76_row3_col3\" class=\"data row3 col3\" >7.000000</td>\n",
       "      <td id=\"T_51f76_row3_col4\" class=\"data row3 col4\" >5.000000</td>\n",
       "      <td id=\"T_51f76_row3_col5\" class=\"data row3 col5\" >6.000000</td>\n",
       "      <td id=\"T_51f76_row3_col6\" class=\"data row3 col6\" >6.000000</td>\n",
       "    </tr>\n",
       "    <tr>\n",
       "      <th id=\"T_51f76_level0_row4\" class=\"row_heading level0 row4\" >7741</th>\n",
       "      <td id=\"T_51f76_row4_col0\" class=\"data row4 col0\" >success</td>\n",
       "      <td id=\"T_51f76_row4_col1\" class=\"data row4 col1\" >3.000000</td>\n",
       "      <td id=\"T_51f76_row4_col2\" class=\"data row4 col2\" >9.000000</td>\n",
       "      <td id=\"T_51f76_row4_col3\" class=\"data row4 col3\" >9.000000</td>\n",
       "      <td id=\"T_51f76_row4_col4\" class=\"data row4 col4\" >5.000000</td>\n",
       "      <td id=\"T_51f76_row4_col5\" class=\"data row4 col5\" >7.000000</td>\n",
       "      <td id=\"T_51f76_row4_col6\" class=\"data row4 col6\" >3.000000</td>\n",
       "    </tr>\n",
       "  </tbody>\n",
       "</table>\n"
      ],
      "text/plain": [
       "<pandas.io.formats.style.Styler at 0x7f5eec7499c0>"
      ]
     },
     "execution_count": 34,
     "metadata": {},
     "output_type": "execute_result"
    }
   ],
   "source": [
    "speeddating_train, speeddating_test = train_test_split(\n",
    "   speeddating, train_size=0.75, random_state=2023, stratify=speeddating[\"match\"] # do not change the random_state\n",
    ")\n",
    "speeddating_train = pd.DataFrame(speeddating_train)\n",
    "speeddating_train.head(5).style.set_caption(\"Table 3: Training set of cleaned data\")"
   ]
  },
  {
   "cell_type": "markdown",
   "id": "9970fee5-965f-4e9c-b4cf-b7c29341cddc",
   "metadata": {},
   "source": [
    "#### Checking the \"match\" data distribution"
   ]
  },
  {
   "cell_type": "code",
   "execution_count": 35,
   "id": "2d484f99-a4e2-469b-8a81-00d8f2e74eb0",
   "metadata": {},
   "outputs": [
    {
     "data": {
      "text/html": [
       "<style type=\"text/css\">\n",
       "</style>\n",
       "<table id=\"T_9654d\">\n",
       "  <caption>Table 4: Percentages of success and fail in matches</caption>\n",
       "  <thead>\n",
       "    <tr>\n",
       "      <th class=\"blank level0\" >&nbsp;</th>\n",
       "      <th id=\"T_9654d_level0_col0\" class=\"col_heading level0 col0\" >count</th>\n",
       "      <th id=\"T_9654d_level0_col1\" class=\"col_heading level0 col1\" >percentage</th>\n",
       "    </tr>\n",
       "    <tr>\n",
       "      <th class=\"index_name level0\" >match</th>\n",
       "      <th class=\"blank col0\" >&nbsp;</th>\n",
       "      <th class=\"blank col1\" >&nbsp;</th>\n",
       "    </tr>\n",
       "  </thead>\n",
       "  <tbody>\n",
       "    <tr>\n",
       "      <th id=\"T_9654d_level0_row0\" class=\"row_heading level0 row0\" >fail</th>\n",
       "      <td id=\"T_9654d_row0_col0\" class=\"data row0 col0\" >507</td>\n",
       "      <td id=\"T_9654d_row0_col1\" class=\"data row0 col1\" >81.906300</td>\n",
       "    </tr>\n",
       "    <tr>\n",
       "      <th id=\"T_9654d_level0_row1\" class=\"row_heading level0 row1\" >success</th>\n",
       "      <td id=\"T_9654d_row1_col0\" class=\"data row1 col0\" >112</td>\n",
       "      <td id=\"T_9654d_row1_col1\" class=\"data row1 col1\" >18.093700</td>\n",
       "    </tr>\n",
       "  </tbody>\n",
       "</table>\n"
      ],
      "text/plain": [
       "<pandas.io.formats.style.Styler at 0x7f5ee3912b30>"
      ]
     },
     "execution_count": 35,
     "metadata": {},
     "output_type": "execute_result"
    }
   ],
   "source": [
    "speeddating_train_dd = speeddating_train.assign(row_number=range(len(speeddating_train)))\n",
    "\n",
    "explore_speeddating = pd.DataFrame()\n",
    "\n",
    "explore_speeddating['count'] = speeddating_train_dd.groupby('match')['row_number'].count()\n",
    "explore_speeddating['percentage'] = 100 * explore_speeddating['count']/len(speeddating_train_dd)\n",
    "\n",
    "explore_speeddating.style.set_caption(\"Table 4: Percentages of success and fail in matches\")"
   ]
  },
  {
   "cell_type": "markdown",
   "id": "48bd9acc-254e-4acb-bf55-e0c616e831eb",
   "metadata": {},
   "source": [
    "We can see from this table that there is an imbalance in the match class; where 81.9% failed to match and 18.1% was successful. This would be a limitation for our model and its accuracy. Since 81.9% of speed dates failed, our model will probably have a high accuracy (around 80 percent) because it will correctly predict a lot of failed dates but it will not be very accurate in predicting successful dates."
   ]
  },
  {
   "cell_type": "markdown",
   "id": "802591b3-a4b1-44b1-a03b-b192c5c5afd0",
   "metadata": {},
   "source": [
    "#### Creating Boxplots \n",
    "The distribution of attribute ratings may be viewed using a box plot, which also makes it possible to compare and contrast match outcomes. To determine the impact of each property on the match outcomes, we produced six boxplots for each attribute using seaborn.boxplot."
   ]
  },
  {
   "cell_type": "code",
   "execution_count": 7,
   "id": "f004cfcd-a30c-41cc-8646-b54b1d7e038b",
   "metadata": {},
   "outputs": [
    {
     "data": {
      "text/plain": [
       "[Text(0.5, 1.0, 'Figure 1: Comparison of match results for Attraction Attribute'),\n",
       " Text(0, 0.5, \"Rating of Partner's Attractiveness\"),\n",
       " Text(0.5, 0, 'Match')]"
      ]
     },
     "execution_count": 7,
     "metadata": {},
     "output_type": "execute_result"
    },
    {
     "data": {
      "image/png": "[encoded data removed]",
      "text/plain": [
       "<Figure size 640x480 with 1 Axes>"
      ]
     },
     "metadata": {},
     "output_type": "display_data"
    }
   ],
   "source": [
    "# Boxplot1\n",
    "sns.boxplot(x='match', y='attractive_partner', width=0.25, data=speeddating_train).set(title='Figure 1: Comparison of match results for Attraction Attribute', ylabel=\"Rating of Partner's Attractiveness\", xlabel=\"Match\")"
   ]
  },
  {
   "cell_type": "markdown",
   "id": "907eaea8-5a34-4e71-9924-9c702880cf1e",
   "metadata": {},
   "source": [
    "Interpretation of Figure 1: This boxplot compares the explanatory variable \"Partner's Attractiveness\", and the response variable of \"match outcome\". The median shows that on average a partner's attractiveness score was one rating higher for successful matches than failed matches. "
   ]
  },
  {
   "cell_type": "code",
   "execution_count": 8,
   "id": "013b34bf-346a-479d-bea0-6fcdb9eebf8a",
   "metadata": {},
   "outputs": [
    {
     "data": {
      "text/plain": [
       "[Text(0.5, 1.0, 'Figure 2: Comparison of match results for Sincere Attribute'),\n",
       " Text(0, 0.5, \"Rating of Partner's Sincerity\"),\n",
       " Text(0.5, 0, 'Match')]"
      ]
     },
     "execution_count": 8,
     "metadata": {},
     "output_type": "execute_result"
    },
    {
     "data": {
      "image/png": "[encoded data removed]",
      "text/plain": [
       "<Figure size 640x480 with 1 Axes>"
      ]
     },
     "metadata": {},
     "output_type": "display_data"
    }
   ],
   "source": [
    "# BoxPlot2 \n",
    "sns.boxplot(x='match', y='sincere_partner', width=0.25, data=speeddating_train).set(title='Figure 2: Comparison of match results for Sincere Attribute', ylabel=\"Rating of Partner's Sincerity\", xlabel=\"Match\")"
   ]
  },
  {
   "cell_type": "markdown",
   "id": "1e313b04-bbc9-40c0-917c-bdf061dd8aab",
   "metadata": {},
   "source": [
    "Interpretation of Figure 2: This boxplot compares the explanatory variable \"Partner's Sincerity\", and the response variable of \"match outcome\". The median shows that on average a partner's sincerity score was one rating higher for successful matches than failed matches. Both categories of “match” have two outlier points. "
   ]
  },
  {
   "cell_type": "code",
   "execution_count": 9,
   "id": "ca7d270d-cffc-4011-961e-4003d13f2004",
   "metadata": {},
   "outputs": [
    {
     "data": {
      "text/plain": [
       "[Text(0.5, 1.0, 'Figure 3: Comparison of match results for Intelligence Attribute'),\n",
       " Text(0, 0.5, \"Rating of Partner's Intelligence\"),\n",
       " Text(0.5, 0, 'Match')]"
      ]
     },
     "execution_count": 9,
     "metadata": {},
     "output_type": "execute_result"
    },
    {
     "data": {
      "image/png": "[encoded data removed]",
      "text/plain": [
       "<Figure size 640x480 with 1 Axes>"
      ]
     },
     "metadata": {},
     "output_type": "display_data"
    }
   ],
   "source": [
    "# Boxplot3\n",
    "sns.boxplot(x='match', y='intelligence_partner', width=0.25, data=speeddating_train).set(title='Figure 3: Comparison of match results for Intelligence Attribute', ylabel=\"Rating of Partner's Intelligence\", xlabel=\"Match\")"
   ]
  },
  {
   "cell_type": "markdown",
   "id": "2f2d63a7-6027-41a9-85dc-645464f228e9",
   "metadata": {},
   "source": [
    "Interpretation of Figure 3: The explanatory variable \"Partner's Intelligence\" and the response variable \"match outcome\" are compared in this boxplot. The median pattern is the same as in Figure 1 and Figure 2. However, the range of category “success” is relatively small, which means partners that were rated below five were never successful in matching.  "
   ]
  },
  {
   "cell_type": "code",
   "execution_count": 10,
   "id": "d655e1f5-4508-41c9-ad59-c1d5d55e48db",
   "metadata": {},
   "outputs": [
    {
     "data": {
      "text/plain": [
       "[Text(0.5, 1.0, 'Figure 4: Comparison of match results for Humour Attribute'),\n",
       " Text(0, 0.5, \"Rating of Partner's Humour\"),\n",
       " Text(0.5, 0, 'Match')]"
      ]
     },
     "execution_count": 10,
     "metadata": {},
     "output_type": "execute_result"
    },
    {
     "data": {
      "image/png": "[encoded data removed]",
      "text/plain": [
       "<Figure size 640x480 with 1 Axes>"
      ]
     },
     "metadata": {},
     "output_type": "display_data"
    }
   ],
   "source": [
    "# Boxplot 4\n",
    "sns.boxplot(x='match', y='humour_partner', width=0.25, data=speeddating_train).set(title='Figure 4: Comparison of match results for Humour Attribute', ylabel=\"Rating of Partner's Humour\", xlabel=\"Match\")"
   ]
  },
  {
   "cell_type": "markdown",
   "id": "382e369e-0e5b-4056-a4b4-9fbea8d15b75",
   "metadata": {},
   "source": [
    "Interpretation of Figure 4: The explanatory variable of \"Partner’s Humour\" and the response variable \"match outcome\" are compared in this boxplot. The median shows that on average a partner's humour score was two ratings higher for successful matches than failed matches. Moreover, non-overlapping boxes are shown meaning there exists a difference between the category “success” and the category “fail.”"
   ]
  },
  {
   "cell_type": "code",
   "execution_count": 11,
   "id": "e07a6226-47ce-4d6a-b5c9-f0876b903e0b",
   "metadata": {},
   "outputs": [
    {
     "data": {
      "text/plain": [
       "[Text(0.5, 1.0, 'Figure 5: Comparison of match results for Ambition Attribute'),\n",
       " Text(0, 0.5, \"Rating of Partner's Ambition\"),\n",
       " Text(0.5, 0, 'Match')]"
      ]
     },
     "execution_count": 11,
     "metadata": {},
     "output_type": "execute_result"
    },
    {
     "data": {
      "image/png": "[encoded data removed]",
      "text/plain": [
       "<Figure size 640x480 with 1 Axes>"
      ]
     },
     "metadata": {},
     "output_type": "display_data"
    }
   ],
   "source": [
    "# Boxplot 5\n",
    "sns.boxplot(x='match', y='ambition_partner', width=0.25, data=speeddating_train).set(title='Figure 5: Comparison of match results for Ambition Attribute', ylabel=\"Rating of Partner's Ambition\", xlabel=\"Match\")"
   ]
  },
  {
   "cell_type": "markdown",
   "id": "0f2cbb2e-dda6-462f-ad04-4cd77b8e2e1f",
   "metadata": {},
   "source": [
    "Interpretation of Figure 5: The explanatory variable of \"Partner’s Ambition\" and the response variable \"match outcome\" are compared in this boxplot. There exists a relatively large overlap between the boxplots here, meaning the rating does not impact the match as it could either fail or succeed. The rating does not seem to influence the outcome of the match. "
   ]
  },
  {
   "cell_type": "code",
   "execution_count": 12,
   "id": "dde90f3e-0c38-4455-a195-c74669f7f775",
   "metadata": {},
   "outputs": [
    {
     "data": {
      "text/plain": [
       "[Text(0.5, 1.0, 'Figure 6: Comparison of match results for Shared Interests Attribute'),\n",
       " Text(0, 0.5, \"Rating of Partner's Shared Interests\"),\n",
       " Text(0.5, 0, 'Match')]"
      ]
     },
     "execution_count": 12,
     "metadata": {},
     "output_type": "execute_result"
    },
    {
     "data": {
      "image/png": "[encoded data removed]",
      "text/plain": [
       "<Figure size 640x480 with 1 Axes>"
      ]
     },
     "metadata": {},
     "output_type": "display_data"
    }
   ],
   "source": [
    "# Boxplot6\n",
    "sns.boxplot(x='match', y='shared_interests_partner', width=0.25, data=speeddating_train).set(title='Figure 6: Comparison of match results for Shared Interests Attribute', ylabel=\"Rating of Partner's Shared Interests\", xlabel=\"Match\")"
   ]
  },
  {
   "cell_type": "markdown",
   "id": "aa8bee2f-ea49-41bf-aa4f-6f2e9fc188da",
   "metadata": {},
   "source": [
    "Interpretation of Figure 6: The explanatory variable of \"Partner’s Shared Interest\" and the response variable \"match outcome\" are compared in this boxplot. The median shows that on average a partner's shared interest score was two ratings higher for successful matches than failed matches. However, there are two outliers in the category of “success.”"
   ]
  },
  {
   "cell_type": "markdown",
   "id": "3ab029a9-d5a7-4320-9675-f0c5f7ae9df9",
   "metadata": {},
   "source": [
    "We have now investigated how each individual attribute of the participants relates with their success or failure in speed dating. Yet, because a person might have a mix of qualities, these boxplots are insufficient for us to draw a conclusion regarding the predictors. Therefore, we made the decision to make several combinations of the attributes and apply hyperparameter optimization to determine the most accurate k-value and obtain the accuracy through cross-validation. We will utilize the combination that is best for our model.\n",
    "\n",
    "To guarantee that we develop the model with the best level of accuracy feasible and that our model is neither overfit nor underfit, it is crucial to optimise the hyperparameter K in KNN classification. "
   ]
  },
  {
   "cell_type": "markdown",
   "id": "a4ba6e41-63a2-41f1-affb-dcaa1b504ae5",
   "metadata": {
    "tags": []
   },
   "source": [
    "#### Combination 1: Attractiveness, Intelligence, Humour, Sincerity"
   ]
  },
  {
   "cell_type": "code",
   "execution_count": 46,
   "id": "5365eda2-af41-4e8d-b1a6-ac2a347913e6",
   "metadata": {},
   "outputs": [
    {
     "data": {
      "text/html": [
       "<style type=\"text/css\">\n",
       "</style>\n",
       "<table id=\"T_7571a\">\n",
       "  <caption>Table 5: Accuracies grid of first combination</caption>\n",
       "  <thead>\n",
       "    <tr>\n",
       "      <th class=\"blank level0\" >&nbsp;</th>\n",
       "      <th id=\"T_7571a_level0_col0\" class=\"col_heading level0 col0\" >n_neighbors</th>\n",
       "      <th id=\"T_7571a_level0_col1\" class=\"col_heading level0 col1\" >mean_test_score</th>\n",
       "      <th id=\"T_7571a_level0_col2\" class=\"col_heading level0 col2\" >sem_test_score</th>\n",
       "    </tr>\n",
       "  </thead>\n",
       "  <tbody>\n",
       "    <tr>\n",
       "      <th id=\"T_7571a_level0_row0\" class=\"row_heading level0 row0\" >6</th>\n",
       "      <td id=\"T_7571a_row0_col0\" class=\"data row0 col0\" >31</td>\n",
       "      <td id=\"T_7571a_row0_col1\" class=\"data row0 col1\" >0.820703</td>\n",
       "      <td id=\"T_7571a_row0_col2\" class=\"data row0 col2\" >0.008620</td>\n",
       "    </tr>\n",
       "    <tr>\n",
       "      <th id=\"T_7571a_level0_row1\" class=\"row_heading level0 row1\" >5</th>\n",
       "      <td id=\"T_7571a_row1_col0\" class=\"data row1 col0\" >26</td>\n",
       "      <td id=\"T_7571a_row1_col1\" class=\"data row1 col1\" >0.820677</td>\n",
       "      <td id=\"T_7571a_row1_col2\" class=\"data row1 col2\" >0.008047</td>\n",
       "    </tr>\n",
       "    <tr>\n",
       "      <th id=\"T_7571a_level0_row2\" class=\"row_heading level0 row2\" >3</th>\n",
       "      <td id=\"T_7571a_row2_col0\" class=\"data row2 col0\" >16</td>\n",
       "      <td id=\"T_7571a_row2_col1\" class=\"data row2 col1\" >0.817478</td>\n",
       "      <td id=\"T_7571a_row2_col2\" class=\"data row2 col2\" >0.008489</td>\n",
       "    </tr>\n",
       "    <tr>\n",
       "      <th id=\"T_7571a_level0_row3\" class=\"row_heading level0 row3\" >16</th>\n",
       "      <td id=\"T_7571a_row3_col0\" class=\"data row3 col0\" >81</td>\n",
       "      <td id=\"T_7571a_row3_col1\" class=\"data row3 col1\" >0.817451</td>\n",
       "      <td id=\"T_7571a_row3_col2\" class=\"data row3 col2\" >0.002293</td>\n",
       "    </tr>\n",
       "    <tr>\n",
       "      <th id=\"T_7571a_level0_row4\" class=\"row_heading level0 row4\" >10</th>\n",
       "      <td id=\"T_7571a_row4_col0\" class=\"data row4 col0\" >51</td>\n",
       "      <td id=\"T_7571a_row4_col1\" class=\"data row4 col1\" >0.814225</td>\n",
       "      <td id=\"T_7571a_row4_col2\" class=\"data row4 col2\" >0.004064</td>\n",
       "    </tr>\n",
       "  </tbody>\n",
       "</table>\n"
      ],
      "text/plain": [
       "<pandas.io.formats.style.Styler at 0x7f5ee3f47a00>"
      ]
     },
     "execution_count": 46,
     "metadata": {},
     "output_type": "execute_result"
    }
   ],
   "source": [
    "# first combination: attractive, intelligence, Humour, sincere\n",
    "np.random.seed(1000)\n",
    "speeddating_train, speeddating_test = train_test_split(speeddating, test_size=0.25, random_state=123)\n",
    "# preprocess data\n",
    "speeddating_preprocessor = make_column_transformer(\n",
    "    (StandardScaler(), [\"attractive_partner\", \"intelligence_partner\", \n",
    "                        \"humour_partner\", \"sincere_partner\"])\n",
    ")\n",
    "\n",
    "# make a dataframe for finding the highest accuracy\n",
    "# accuracies grid\n",
    "knn = KNeighborsClassifier()\n",
    "speeddating_tune_pipe = make_pipeline(speeddating_preprocessor, knn)\n",
    "\n",
    "\n",
    "parameter_grid = {\n",
    "    \"kneighborsclassifier__n_neighbors\": range(1, 100, 5),\n",
    "}\n",
    "\n",
    "speeddating_tune_grid = GridSearchCV(\n",
    "    estimator=speeddating_tune_pipe,\n",
    "    param_grid=parameter_grid,\n",
    "    cv=10\n",
    ")\n",
    "\n",
    "accuracies_grid = pd.DataFrame(\n",
    "             speeddating_tune_grid\n",
    "             .fit(speeddating_train.loc[:, [\"attractive_partner\", \"intelligence_partner\",\n",
    "                                            \"humour_partner\", \"sincere_partner\"]],\n",
    "                  speeddating_train[\"match\"]\n",
    "            ).cv_results_)\n",
    "\n",
    "\n",
    "accuracies_grid = accuracies_grid[[\"param_kneighborsclassifier__n_neighbors\", \n",
    "                                   \"mean_test_score\", \"std_test_score\"]\n",
    "              ].assign(\n",
    "                  sem_test_score = accuracies_grid[\"std_test_score\"] / 10**(1/2)\n",
    "              ).rename(\n",
    "                  columns = {\"param_kneighborsclassifier__n_neighbors\" : \"n_neighbors\"}\n",
    "              ).drop(\n",
    "                  columns = [\"std_test_score\"]\n",
    "              )\n",
    "accuracies_grid.sort_values(by=\"mean_test_score\",ascending=False).head(5).style.set_caption(\"Table 5: Accuracies grid of first combination\")"
   ]
  },
  {
   "cell_type": "markdown",
   "id": "e90fc383-977c-420b-95f2-bbbd2dfb0417",
   "metadata": {},
   "source": [
    "After splitting the training data into another subtraining and validation sets, a preprocessor was made and GridSearchCV was used to tune the data.\n",
    "\n",
    "Using the tuned grid, an accuracies grid was made with the columns for the k value ordered in descending order in terms of mean test score. The k value with the highest accuracy is 31 for the first combination. We can now fit the sub training data with the k value found. "
   ]
  },
  {
   "cell_type": "code",
   "execution_count": 47,
   "id": "46e1d776-2712-4f4e-a592-e835e324dfe0",
   "metadata": {},
   "outputs": [
    {
     "data": {
      "text/plain": [
       "0.8064516129032258"
      ]
     },
     "execution_count": 47,
     "metadata": {},
     "output_type": "execute_result"
    }
   ],
   "source": [
    "np.random.seed(1000)\n",
    "# now use k=31 to tune data and test accuracy of model\n",
    "\n",
    "speeddating_subtrain, speeddating_validation = train_test_split(\n",
    "    speeddating_train, test_size=0.25\n",
    ")\n",
    "\n",
    "\n",
    "# fit the model on the sub-training data\n",
    "knn = KNeighborsClassifier(n_neighbors=31) \n",
    "X = speeddating_subtrain.loc[:, [\"attractive_partner\",\"intelligence_partner\",\n",
    "                                 \"humour_partner\", \"sincere_partner\"]]\n",
    "y = speeddating_subtrain[\"match\"]\n",
    "knn_fit = make_pipeline(speeddating_preprocessor, knn).fit(X, y)\n",
    "\n",
    "# compute the score on validation data\n",
    "acc = knn_fit.score(\n",
    "    speeddating_validation.loc[:, [\"attractive_partner\",\"intelligence_partner\",\n",
    "                                   \"humour_partner\", \"sincere_partner\"]],\n",
    "    speeddating_validation[\"match\"]\n",
    ")\n",
    "acc"
   ]
  },
  {
   "cell_type": "markdown",
   "id": "314beb1a-8380-455f-82d7-da458d75c294",
   "metadata": {},
   "source": [
    "We get an accuracy score of 0.806 which is not a low score, but we will try other combinations of predictors to see if they have a higher accuracy score."
   ]
  },
  {
   "cell_type": "markdown",
   "id": "79afc8ad-22bb-4f7d-bc1b-c8477d3bc42a",
   "metadata": {},
   "source": [
    "#### Combination 2: Sincere, Intelligence, Shared Interests, Ambition "
   ]
  },
  {
   "cell_type": "code",
   "execution_count": 40,
   "id": "8269c9ed-cccd-461d-901d-47786b83403c",
   "metadata": {},
   "outputs": [
    {
     "data": {
      "text/html": [
       "<style type=\"text/css\">\n",
       "</style>\n",
       "<table id=\"T_e8284\">\n",
       "  <caption>Table 6: Accuracies grid of second combination</caption>\n",
       "  <thead>\n",
       "    <tr>\n",
       "      <th class=\"blank level0\" >&nbsp;</th>\n",
       "      <th id=\"T_e8284_level0_col0\" class=\"col_heading level0 col0\" >n_neighbors</th>\n",
       "      <th id=\"T_e8284_level0_col1\" class=\"col_heading level0 col1\" >mean_test_score</th>\n",
       "      <th id=\"T_e8284_level0_col2\" class=\"col_heading level0 col2\" >sem_test_score</th>\n",
       "    </tr>\n",
       "  </thead>\n",
       "  <tbody>\n",
       "    <tr>\n",
       "      <th id=\"T_e8284_level0_row0\" class=\"row_heading level0 row0\" >10</th>\n",
       "      <td id=\"T_e8284_row0_col0\" class=\"data row0 col0\" >51</td>\n",
       "      <td id=\"T_e8284_row0_col1\" class=\"data row0 col1\" >0.814252</td>\n",
       "      <td id=\"T_e8284_row0_col2\" class=\"data row0 col2\" >0.003961</td>\n",
       "    </tr>\n",
       "    <tr>\n",
       "      <th id=\"T_e8284_level0_row1\" class=\"row_heading level0 row1\" >11</th>\n",
       "      <td id=\"T_e8284_row1_col0\" class=\"data row1 col0\" >56</td>\n",
       "      <td id=\"T_e8284_row1_col1\" class=\"data row1 col1\" >0.814225</td>\n",
       "      <td id=\"T_e8284_row1_col2\" class=\"data row1 col2\" >0.002472</td>\n",
       "    </tr>\n",
       "    <tr>\n",
       "      <th id=\"T_e8284_level0_row2\" class=\"row_heading level0 row2\" >7</th>\n",
       "      <td id=\"T_e8284_row2_col0\" class=\"data row2 col0\" >36</td>\n",
       "      <td id=\"T_e8284_row2_col1\" class=\"data row2 col1\" >0.812586</td>\n",
       "      <td id=\"T_e8284_row2_col2\" class=\"data row2 col2\" >0.008317</td>\n",
       "    </tr>\n",
       "    <tr>\n",
       "      <th id=\"T_e8284_level0_row3\" class=\"row_heading level0 row3\" >12</th>\n",
       "      <td id=\"T_e8284_row3_col0\" class=\"data row3 col0\" >61</td>\n",
       "      <td id=\"T_e8284_row3_col1\" class=\"data row3 col1\" >0.812586</td>\n",
       "      <td id=\"T_e8284_row3_col2\" class=\"data row3 col2\" >0.003456</td>\n",
       "    </tr>\n",
       "    <tr>\n",
       "      <th id=\"T_e8284_level0_row4\" class=\"row_heading level0 row4\" >6</th>\n",
       "      <td id=\"T_e8284_row4_col0\" class=\"data row4 col0\" >31</td>\n",
       "      <td id=\"T_e8284_row4_col1\" class=\"data row4 col1\" >0.812559</td>\n",
       "      <td id=\"T_e8284_row4_col2\" class=\"data row4 col2\" >0.009271</td>\n",
       "    </tr>\n",
       "  </tbody>\n",
       "</table>\n"
      ],
      "text/plain": [
       "<pandas.io.formats.style.Styler at 0x7f5eecf80be0>"
      ]
     },
     "execution_count": 40,
     "metadata": {},
     "output_type": "execute_result"
    }
   ],
   "source": [
    "# second combination: sincere, intelligence, shared interests, ambition \n",
    "np.random.seed(1000)\n",
    "speeddating_train, speeddating_test = train_test_split(speeddating, test_size=0.25, random_state=123)\n",
    "# preprocess data\n",
    "speeddating_preprocessor = make_column_transformer(\n",
    "    (StandardScaler(), [\"sincere_partner\",\"intelligence_partner\",\n",
    "                        \"shared_interests_partner\", \"ambition_partner\"])\n",
    ")\n",
    "\n",
    "# make a dataframe for finding the highest accuracy\n",
    "# accuracies grid\n",
    "knn = KNeighborsClassifier()\n",
    "speeddating_tune_pipe = make_pipeline(speeddating_preprocessor, knn)\n",
    "\n",
    "\n",
    "parameter_grid = {\n",
    "    \"kneighborsclassifier__n_neighbors\": range(1, 100, 5),\n",
    "}\n",
    "\n",
    "speeddating_tune_grid = GridSearchCV(\n",
    "    estimator=speeddating_tune_pipe,\n",
    "    param_grid=parameter_grid,\n",
    "    cv=10\n",
    ")\n",
    "\n",
    "accuracies_grid = pd.DataFrame(\n",
    "             speeddating_tune_grid\n",
    "             .fit(speeddating_train.loc[:, [\"sincere_partner\",\"intelligence_partner\",\n",
    "                                            \"shared_interests_partner\", \"ambition_partner\"]],\n",
    "                  speeddating_train[\"match\"]\n",
    "            ).cv_results_)\n",
    "\n",
    "\n",
    "accuracies_grid = accuracies_grid[[\"param_kneighborsclassifier__n_neighbors\", \n",
    "                                   \"mean_test_score\", \"std_test_score\"]\n",
    "              ].assign(\n",
    "                  sem_test_score = accuracies_grid[\"std_test_score\"] / 10**(1/2)\n",
    "              ).rename(\n",
    "                  columns = {\"param_kneighborsclassifier__n_neighbors\" : \"n_neighbors\"}\n",
    "              ).drop(\n",
    "                  columns = [\"std_test_score\"]\n",
    "              )\n",
    "accuracies_grid.sort_values(by=\"mean_test_score\",ascending=False).head(5).style.set_caption(\"Table 6: Accuracies grid of second combination\")"
   ]
  },
  {
   "cell_type": "markdown",
   "id": "842934a1-94ec-4b6f-be56-03e5e8506da3",
   "metadata": {},
   "source": [
    "Our second combination of the predictors \"sincere_partner\", \"intelligence_partner\", \"shared_interests_partner\", and \"ambition_partner\" was found to have the k value of 51 for the highest accuracy. We now use the k=51 to fit the subtraining set and test the accuracy. "
   ]
  },
  {
   "cell_type": "code",
   "execution_count": 41,
   "id": "c3a2012e-1142-4821-a310-d5be812b189c",
   "metadata": {},
   "outputs": [
    {
     "data": {
      "text/plain": [
       "0.8129032258064516"
      ]
     },
     "execution_count": 41,
     "metadata": {},
     "output_type": "execute_result"
    }
   ],
   "source": [
    "np.random.seed(1000)\n",
    "# k=56 has the highest accuracy\n",
    "speeddating_subtrain, speeddating_validation = train_test_split(\n",
    "    speeddating_train, test_size=0.25\n",
    ")\n",
    "\n",
    "\n",
    "# fit the model on the sub-training data\n",
    "knn = KNeighborsClassifier(n_neighbors=56) \n",
    "X = speeddating_subtrain.loc[:, [\"sincere_partner\",\"intelligence_partner\",\n",
    "                                 \"shared_interests_partner\", \"ambition_partner\"]]\n",
    "y = speeddating_subtrain[\"match\"]\n",
    "knn_fit = make_pipeline(speeddating_preprocessor, knn).fit(X, y)\n",
    "\n",
    "# compute the score on validation data\n",
    "acc = knn_fit.score(\n",
    "    speeddating_validation.loc[:, [\"sincere_partner\",\"intelligence_partner\",\n",
    "                                   \"shared_interests_partner\", \"ambition_partner\"]],\n",
    "    speeddating_validation[\"match\"]\n",
    ")\n",
    "acc"
   ]
  },
  {
   "cell_type": "markdown",
   "id": "0ca03443-d7d6-4ca8-81c2-742ade876ad3",
   "metadata": {},
   "source": [
    "The second combination gives us the accuracy of 0.813, which is higher than the first combination."
   ]
  },
  {
   "cell_type": "markdown",
   "id": "fbfcf97b-1a99-4d8e-936d-2b5db1bc2404",
   "metadata": {},
   "source": [
    "#### Combination 3: Attractiveness, Humour, Shared Interests, Intelligence"
   ]
  },
  {
   "cell_type": "code",
   "execution_count": 42,
   "id": "27a8c87f-a33d-4c8f-b2b1-54c4ef216986",
   "metadata": {},
   "outputs": [
    {
     "data": {
      "text/html": [
       "<style type=\"text/css\">\n",
       "</style>\n",
       "<table id=\"T_457eb\">\n",
       "  <caption>Table 7: Accuracies grid for the third combination</caption>\n",
       "  <thead>\n",
       "    <tr>\n",
       "      <th class=\"blank level0\" >&nbsp;</th>\n",
       "      <th id=\"T_457eb_level0_col0\" class=\"col_heading level0 col0\" >n_neighbors</th>\n",
       "      <th id=\"T_457eb_level0_col1\" class=\"col_heading level0 col1\" >mean_test_score</th>\n",
       "      <th id=\"T_457eb_level0_col2\" class=\"col_heading level0 col2\" >sem_test_score</th>\n",
       "    </tr>\n",
       "  </thead>\n",
       "  <tbody>\n",
       "    <tr>\n",
       "      <th id=\"T_457eb_level0_row0\" class=\"row_heading level0 row0\" >18</th>\n",
       "      <td id=\"T_457eb_row0_col0\" class=\"data row0 col0\" >91</td>\n",
       "      <td id=\"T_457eb_row0_col1\" class=\"data row0 col1\" >0.814225</td>\n",
       "      <td id=\"T_457eb_row0_col2\" class=\"data row0 col2\" >0.002472</td>\n",
       "    </tr>\n",
       "    <tr>\n",
       "      <th id=\"T_457eb_level0_row1\" class=\"row_heading level0 row1\" >17</th>\n",
       "      <td id=\"T_457eb_row1_col0\" class=\"data row1 col0\" >86</td>\n",
       "      <td id=\"T_457eb_row1_col1\" class=\"data row1 col1\" >0.812586</td>\n",
       "      <td id=\"T_457eb_row1_col2\" class=\"data row1 col2\" >0.002597</td>\n",
       "    </tr>\n",
       "    <tr>\n",
       "      <th id=\"T_457eb_level0_row2\" class=\"row_heading level0 row2\" >1</th>\n",
       "      <td id=\"T_457eb_row2_col0\" class=\"data row2 col0\" >6</td>\n",
       "      <td id=\"T_457eb_row2_col1\" class=\"data row2 col1\" >0.812586</td>\n",
       "      <td id=\"T_457eb_row2_col2\" class=\"data row2 col2\" >0.006161</td>\n",
       "    </tr>\n",
       "    <tr>\n",
       "      <th id=\"T_457eb_level0_row3\" class=\"row_heading level0 row3\" >9</th>\n",
       "      <td id=\"T_457eb_row3_col0\" class=\"data row3 col0\" >46</td>\n",
       "      <td id=\"T_457eb_row3_col1\" class=\"data row3 col1\" >0.810999</td>\n",
       "      <td id=\"T_457eb_row3_col2\" class=\"data row3 col2\" >0.004527</td>\n",
       "    </tr>\n",
       "    <tr>\n",
       "      <th id=\"T_457eb_level0_row4\" class=\"row_heading level0 row4\" >19</th>\n",
       "      <td id=\"T_457eb_row4_col0\" class=\"data row4 col0\" >96</td>\n",
       "      <td id=\"T_457eb_row4_col1\" class=\"data row4 col1\" >0.810973</td>\n",
       "      <td id=\"T_457eb_row4_col2\" class=\"data row4 col2\" >0.002421</td>\n",
       "    </tr>\n",
       "  </tbody>\n",
       "</table>\n"
      ],
      "text/plain": [
       "<pandas.io.formats.style.Styler at 0x7f5ee38b4a30>"
      ]
     },
     "execution_count": 42,
     "metadata": {},
     "output_type": "execute_result"
    }
   ],
   "source": [
    "# third combination: attractiveness, humour, shared_interests, intelligence\n",
    "np.random.seed(1000)\n",
    "speeddating_train, speeddating_test = train_test_split(speeddating, test_size=0.25, random_state=123)\n",
    "# preprocess data\n",
    "speeddating_preprocessor = make_column_transformer(\n",
    "    (StandardScaler(), [\"attractive_partner\",\"intelligence_partner\",\n",
    "                        \"humour_partner\", \"shared_interests_partner\"])\n",
    ")\n",
    "\n",
    "# make a dataframe for finding the highest accuracy\n",
    "# accuracies grid\n",
    "knn = KNeighborsClassifier()\n",
    "speeddating_tune_pipe = make_pipeline(speeddating_preprocessor, knn)\n",
    "\n",
    "\n",
    "parameter_grid = {\n",
    "    \"kneighborsclassifier__n_neighbors\": range(1, 100, 5),\n",
    "}\n",
    "\n",
    "speeddating_tune_grid = GridSearchCV(\n",
    "    estimator=speeddating_tune_pipe,\n",
    "    param_grid=parameter_grid,\n",
    "    cv=10\n",
    ")\n",
    "\n",
    "accuracies_grid = pd.DataFrame(\n",
    "             speeddating_tune_grid\n",
    "             .fit(speeddating_train.loc[:, [\"attractive_partner\", \"intelligence_partner\",\n",
    "                                            \"humour_partner\", \"shared_interests_partner\"]],\n",
    "                  speeddating_train[\"match\"]\n",
    "            ).cv_results_)\n",
    "\n",
    "\n",
    "accuracies_grid = accuracies_grid[[\"param_kneighborsclassifier__n_neighbors\", \n",
    "                                   \"mean_test_score\", \"std_test_score\"]\n",
    "              ].assign(\n",
    "                  sem_test_score = accuracies_grid[\"std_test_score\"] / 10**(1/2)\n",
    "              ).rename(\n",
    "                  columns = {\"param_kneighborsclassifier__n_neighbors\" : \"n_neighbors\"}\n",
    "              ).drop(\n",
    "                  columns = [\"std_test_score\"]\n",
    "              )\n",
    "accuracies_grid.sort_values(by=\"mean_test_score\",ascending=False).head(5).style.set_caption(\"Table 7: Accuracies grid for the third combination\")"
   ]
  },
  {
   "cell_type": "code",
   "execution_count": 43,
   "id": "c8949f13-26a8-4df1-a758-a9b4fa7ee963",
   "metadata": {},
   "outputs": [
    {
     "data": {
      "text/plain": [
       "0.8129032258064516"
      ]
     },
     "execution_count": 43,
     "metadata": {},
     "output_type": "execute_result"
    }
   ],
   "source": [
    "np.random.seed(1000)\n",
    "# k=91 has the highest accuracy\n",
    "speeddating_subtrain, speeddating_validation = train_test_split(\n",
    "    speeddating_train, test_size=0.25\n",
    ")\n",
    "# fit the model on the sub-training data\n",
    "knn = KNeighborsClassifier(n_neighbors=91) \n",
    "X = speeddating_subtrain.loc[:, [\"attractive_partner\",\"intelligence_partner\",\n",
    "                                \"humour_partner\", \"shared_interests_partner\"]]\n",
    "y = speeddating_subtrain[\"match\"]\n",
    "knn_fit = make_pipeline(speeddating_preprocessor, knn).fit(X, y)\n",
    "\n",
    "# compute the score on validation data\n",
    "acc = knn_fit.score(\n",
    "    speeddating_validation.loc[:, [\"attractive_partner\",\"intelligence_partner\",\n",
    "                                    \"humour_partner\", \"shared_interests_partner\"]],\n",
    "    speeddating_validation[\"match\"]\n",
    ")\n",
    "acc"
   ]
  },
  {
   "cell_type": "markdown",
   "id": "60168e0c-f34b-49b2-ad80-8de69a7a3327",
   "metadata": {},
   "source": [
    "The third combination gives us an accuracy of 0.813, which is higher than the first and same with the second combination."
   ]
  },
  {
   "cell_type": "markdown",
   "id": "d8f83e55-8054-489a-9a6b-cf79e6465a72",
   "metadata": {},
   "source": [
    "#### Combination 4: Attractiveness, Intelligence, Humour, Sincere, Shared Interests"
   ]
  },
  {
   "cell_type": "code",
   "execution_count": 44,
   "id": "82ba3624-39d8-4d9f-be02-cf27b2f25411",
   "metadata": {},
   "outputs": [
    {
     "data": {
      "text/html": [
       "<style type=\"text/css\">\n",
       "</style>\n",
       "<table id=\"T_9b5a9\">\n",
       "  <caption>Table 8: Accuracies grid for fourth combination</caption>\n",
       "  <thead>\n",
       "    <tr>\n",
       "      <th class=\"blank level0\" >&nbsp;</th>\n",
       "      <th id=\"T_9b5a9_level0_col0\" class=\"col_heading level0 col0\" >n_neighbors</th>\n",
       "      <th id=\"T_9b5a9_level0_col1\" class=\"col_heading level0 col1\" >mean_test_score</th>\n",
       "      <th id=\"T_9b5a9_level0_col2\" class=\"col_heading level0 col2\" >sem_test_score</th>\n",
       "    </tr>\n",
       "  </thead>\n",
       "  <tbody>\n",
       "    <tr>\n",
       "      <th id=\"T_9b5a9_level0_row0\" class=\"row_heading level0 row0\" >4</th>\n",
       "      <td id=\"T_9b5a9_row0_col0\" class=\"data row0 col0\" >21</td>\n",
       "      <td id=\"T_9b5a9_row0_col1\" class=\"data row0 col1\" >0.819117</td>\n",
       "      <td id=\"T_9b5a9_row0_col2\" class=\"data row0 col2\" >0.009261</td>\n",
       "    </tr>\n",
       "    <tr>\n",
       "      <th id=\"T_9b5a9_level0_row1\" class=\"row_heading level0 row1\" >1</th>\n",
       "      <td id=\"T_9b5a9_row1_col0\" class=\"data row1 col0\" >6</td>\n",
       "      <td id=\"T_9b5a9_row1_col1\" class=\"data row1 col1\" >0.819064</td>\n",
       "      <td id=\"T_9b5a9_row1_col2\" class=\"data row1 col2\" >0.005939</td>\n",
       "    </tr>\n",
       "    <tr>\n",
       "      <th id=\"T_9b5a9_level0_row2\" class=\"row_heading level0 row2\" >5</th>\n",
       "      <td id=\"T_9b5a9_row2_col0\" class=\"data row2 col0\" >26</td>\n",
       "      <td id=\"T_9b5a9_row2_col1\" class=\"data row2 col1\" >0.814252</td>\n",
       "      <td id=\"T_9b5a9_row2_col2\" class=\"data row2 col2\" >0.008540</td>\n",
       "    </tr>\n",
       "    <tr>\n",
       "      <th id=\"T_9b5a9_level0_row3\" class=\"row_heading level0 row3\" >12</th>\n",
       "      <td id=\"T_9b5a9_row3_col0\" class=\"data row3 col0\" >61</td>\n",
       "      <td id=\"T_9b5a9_row3_col1\" class=\"data row3 col1\" >0.814199</td>\n",
       "      <td id=\"T_9b5a9_row3_col2\" class=\"data row3 col2\" >0.004766</td>\n",
       "    </tr>\n",
       "    <tr>\n",
       "      <th id=\"T_9b5a9_level0_row4\" class=\"row_heading level0 row4\" >14</th>\n",
       "      <td id=\"T_9b5a9_row4_col0\" class=\"data row4 col0\" >71</td>\n",
       "      <td id=\"T_9b5a9_row4_col1\" class=\"data row4 col1\" >0.812612</td>\n",
       "      <td id=\"T_9b5a9_row4_col2\" class=\"data row4 col2\" >0.002399</td>\n",
       "    </tr>\n",
       "  </tbody>\n",
       "</table>\n"
      ],
      "text/plain": [
       "<pandas.io.formats.style.Styler at 0x7f5ee3958760>"
      ]
     },
     "execution_count": 44,
     "metadata": {},
     "output_type": "execute_result"
    }
   ],
   "source": [
    "# fourth combination: attractiveness, intelligence, humour, sincere, shared interests\n",
    "np.random.seed(1000)\n",
    "speeddating_train, speeddating_test = train_test_split(speeddating, test_size=0.25, random_state=123)\n",
    "\n",
    "# preprocess data\n",
    "speeddating_preprocessor = make_column_transformer(\n",
    "    (StandardScaler(), [\"attractive_partner\",  \"sincere_partner\",\"intelligence_partner\", \n",
    "                        \"humour_partner\",\"shared_interests_partner\"])\n",
    ")\n",
    "\n",
    "# make a dataframe for finding the highest accuracy\n",
    "# accuracies grid\n",
    "knn = KNeighborsClassifier()\n",
    "speeddating_tune_pipe = make_pipeline(speeddating_preprocessor, knn)\n",
    "\n",
    "\n",
    "parameter_grid = {\n",
    "    \"kneighborsclassifier__n_neighbors\": range(1, 100, 5),\n",
    "}\n",
    "\n",
    "speeddating_tune_grid = GridSearchCV(\n",
    "    estimator=speeddating_tune_pipe,\n",
    "    param_grid=parameter_grid,\n",
    "    cv=10\n",
    ")\n",
    "\n",
    "accuracies_grid = pd.DataFrame(\n",
    "             speeddating_tune_grid\n",
    "             .fit(speeddating_train.loc[:, [\"attractive_partner\",  \"sincere_partner\",\"intelligence_partner\", \n",
    "                                            \"humour_partner\",\"shared_interests_partner\"]],\n",
    "                  speeddating_train[\"match\"]\n",
    "            ).cv_results_)\n",
    "\n",
    "\n",
    "accuracies_grid = accuracies_grid[[\"param_kneighborsclassifier__n_neighbors\", \n",
    "                                   \"mean_test_score\", \"std_test_score\"]\n",
    "              ].assign(\n",
    "                  sem_test_score = accuracies_grid[\"std_test_score\"] / 10**(1/2)\n",
    "              ).rename(\n",
    "                  columns = {\"param_kneighborsclassifier__n_neighbors\" : \"n_neighbors\"}\n",
    "              ).drop(\n",
    "                  columns = [\"std_test_score\"]\n",
    "              )\n",
    "accuracies_grid.sort_values(by=\"mean_test_score\",ascending=False).head(5).style.set_caption(\"Table 8: Accuracies grid for fourth combination\")"
   ]
  },
  {
   "cell_type": "code",
   "execution_count": 45,
   "id": "6b19fd9a-8f8c-4419-b8aa-2533e2bfe4cc",
   "metadata": {},
   "outputs": [
    {
     "data": {
      "text/plain": [
       "0.8064516129032258"
      ]
     },
     "execution_count": 45,
     "metadata": {},
     "output_type": "execute_result"
    }
   ],
   "source": [
    "np.random.seed(1000)\n",
    "# now use k=21 to find accuracy of model\n",
    "speeddating_subtrain, speeddating_validation = train_test_split(\n",
    "    speeddating_train, test_size=0.25\n",
    ")\n",
    "# fit the model on the sub-training data\n",
    "knn = KNeighborsClassifier(n_neighbors=21) \n",
    "X = speeddating_subtrain.loc[:, [\"attractive_partner\",  \"sincere_partner\",\"intelligence_partner\", \n",
    "                                 \"humour_partner\",\"shared_interests_partner\"]]\n",
    "y = speeddating_subtrain[\"match\"]\n",
    "knn_fit = make_pipeline(speeddating_preprocessor, knn).fit(X, y)\n",
    "\n",
    "# compute the score on validation data\n",
    "acc = knn_fit.score(\n",
    "    speeddating_validation.loc[:, [\"attractive_partner\",  \"sincere_partner\",\"intelligence_partner\", \n",
    "                                   \"humour_partner\",\"shared_interests_partner\"]],\n",
    "    speeddating_validation[\"match\"]\n",
    ")\n",
    "acc"
   ]
  },
  {
   "cell_type": "markdown",
   "id": "766ecabe-8eeb-4e52-a076-88f98d2d2eec",
   "metadata": {},
   "source": [
    "This combination of attributes now has the highest accuracy of 0.845 out of all combinations so far. "
   ]
  },
  {
   "cell_type": "markdown",
   "id": "0707b563-2d02-4137-a321-a10ef73ee5b4",
   "metadata": {},
   "source": [
    "#### Combination 5: Attractiveness, Intelligence, Humour, Sincere, Shared Interests, Ambition (all six attributes)"
   ]
  },
  {
   "cell_type": "code",
   "execution_count": 48,
   "id": "4cfe29ef-3d1e-4109-b8ff-e414ccf87cb7",
   "metadata": {},
   "outputs": [
    {
     "data": {
      "text/html": [
       "<style type=\"text/css\">\n",
       "</style>\n",
       "<table id=\"T_25e79\">\n",
       "  <caption>Table 9: Accuracies grid for fifth combination</caption>\n",
       "  <thead>\n",
       "    <tr>\n",
       "      <th class=\"blank level0\" >&nbsp;</th>\n",
       "      <th id=\"T_25e79_level0_col0\" class=\"col_heading level0 col0\" >n_neighbors</th>\n",
       "      <th id=\"T_25e79_level0_col1\" class=\"col_heading level0 col1\" >mean_test_score</th>\n",
       "      <th id=\"T_25e79_level0_col2\" class=\"col_heading level0 col2\" >sem_test_score</th>\n",
       "    </tr>\n",
       "  </thead>\n",
       "  <tbody>\n",
       "    <tr>\n",
       "      <th id=\"T_25e79_level0_row0\" class=\"row_heading level0 row0\" >14</th>\n",
       "      <td id=\"T_25e79_row0_col0\" class=\"data row0 col0\" >71</td>\n",
       "      <td id=\"T_25e79_row0_col1\" class=\"data row0 col1\" >0.823903</td>\n",
       "      <td id=\"T_25e79_row0_col2\" class=\"data row0 col2\" >0.007729</td>\n",
       "    </tr>\n",
       "    <tr>\n",
       "      <th id=\"T_25e79_level0_row1\" class=\"row_heading level0 row1\" >4</th>\n",
       "      <td id=\"T_25e79_row1_col0\" class=\"data row1 col0\" >21</td>\n",
       "      <td id=\"T_25e79_row1_col1\" class=\"data row1 col1\" >0.823876</td>\n",
       "      <td id=\"T_25e79_row1_col2\" class=\"data row1 col2\" >0.007098</td>\n",
       "    </tr>\n",
       "    <tr>\n",
       "      <th id=\"T_25e79_level0_row2\" class=\"row_heading level0 row2\" >16</th>\n",
       "      <td id=\"T_25e79_row2_col0\" class=\"data row2 col0\" >81</td>\n",
       "      <td id=\"T_25e79_row2_col1\" class=\"data row2 col1\" >0.820703</td>\n",
       "      <td id=\"T_25e79_row2_col2\" class=\"data row2 col2\" >0.006564</td>\n",
       "    </tr>\n",
       "    <tr>\n",
       "      <th id=\"T_25e79_level0_row3\" class=\"row_heading level0 row3\" >13</th>\n",
       "      <td id=\"T_25e79_row3_col0\" class=\"data row3 col0\" >66</td>\n",
       "      <td id=\"T_25e79_row3_col1\" class=\"data row3 col1\" >0.820677</td>\n",
       "      <td id=\"T_25e79_row3_col2\" class=\"data row3 col2\" >0.007372</td>\n",
       "    </tr>\n",
       "    <tr>\n",
       "      <th id=\"T_25e79_level0_row4\" class=\"row_heading level0 row4\" >7</th>\n",
       "      <td id=\"T_25e79_row4_col0\" class=\"data row4 col0\" >36</td>\n",
       "      <td id=\"T_25e79_row4_col1\" class=\"data row4 col1\" >0.820650</td>\n",
       "      <td id=\"T_25e79_row4_col2\" class=\"data row4 col2\" >0.007784</td>\n",
       "    </tr>\n",
       "  </tbody>\n",
       "</table>\n"
      ],
      "text/plain": [
       "<pandas.io.formats.style.Styler at 0x7f5ee3f46ce0>"
      ]
     },
     "execution_count": 48,
     "metadata": {},
     "output_type": "execute_result"
    }
   ],
   "source": [
    "# fifth combination: attractiveness, intelligence, humour, sincere, shared interests, ambition (all six attributes)\n",
    "np.random.seed(1000)\n",
    "speeddating_train, speeddating_test = train_test_split(speeddating, test_size=0.25, random_state=123)\n",
    "# preprocess data\n",
    "speeddating_preprocessor = make_column_transformer(\n",
    "    (StandardScaler(), [\"attractive_partner\",  \"sincere_partner\",\"intelligence_partner\", \n",
    "                        \"humour_partner\", \"ambition_partner\", \"shared_interests_partner\"])\n",
    ")\n",
    "\n",
    "# make a dataframe for finding the highest accuracy\n",
    "# accuracies grid\n",
    "knn = KNeighborsClassifier()\n",
    "speeddating_tune_pipe = make_pipeline(speeddating_preprocessor, knn)\n",
    "\n",
    "\n",
    "parameter_grid = {\n",
    "    \"kneighborsclassifier__n_neighbors\": range(1, 100, 5),\n",
    "}\n",
    "\n",
    "speeddating_tune_grid = GridSearchCV(\n",
    "    estimator=speeddating_tune_pipe,\n",
    "    param_grid=parameter_grid,\n",
    "    cv=10\n",
    ")\n",
    "\n",
    "accuracies_grid = pd.DataFrame(\n",
    "             speeddating_tune_grid\n",
    "             .fit(speeddating_train.loc[:, [\"attractive_partner\",  \"sincere_partner\",\"intelligence_partner\", \n",
    "                                            \"humour_partner\",\"ambition_partner\",\"shared_interests_partner\"]],\n",
    "                  speeddating_train[\"match\"]\n",
    "            ).cv_results_)\n",
    "\n",
    "\n",
    "accuracies_grid = accuracies_grid[[\"param_kneighborsclassifier__n_neighbors\", \n",
    "                                   \"mean_test_score\", \"std_test_score\"]\n",
    "              ].assign(\n",
    "                  sem_test_score = accuracies_grid[\"std_test_score\"] / 10**(1/2)\n",
    "              ).rename(\n",
    "                  columns = {\"param_kneighborsclassifier__n_neighbors\" : \"n_neighbors\"}\n",
    "              ).drop(\n",
    "                  columns = [\"std_test_score\"]\n",
    "              )\n",
    "accuracies_grid.sort_values(by=\"mean_test_score\",ascending=False).head(5).style.set_caption(\"Table 9: Accuracies grid for fifth combination\")"
   ]
  },
  {
   "cell_type": "code",
   "execution_count": 49,
   "id": "a380a2cc-fccd-4463-ab40-465f739e31b9",
   "metadata": {},
   "outputs": [
    {
     "data": {
      "text/plain": [
       "0.8129032258064516"
      ]
     },
     "execution_count": 49,
     "metadata": {},
     "output_type": "execute_result"
    }
   ],
   "source": [
    "np.random.seed(1000)\n",
    "# now use k=71 to find accuracy of model\n",
    "speeddating_subtrain, speeddating_validation = train_test_split(\n",
    "    speeddating_train, test_size=0.25\n",
    ")\n",
    "speeddating_preprocessor = make_column_transformer(\n",
    "    (StandardScaler(), [\"attractive_partner\",  \"sincere_partner\",\"intelligence_partner\", \n",
    "                        \"humour_partner\", \"shared_interests_partner\"])\n",
    ")\n",
    "# fit the model on the sub-training data\n",
    "knn = KNeighborsClassifier(n_neighbors=71) \n",
    "X = speeddating_subtrain.loc[:, [\"attractive_partner\",  \"sincere_partner\",\"intelligence_partner\", \n",
    "                                 \"humour_partner\", \"shared_interests_partner\"]]\n",
    "y = speeddating_subtrain[\"match\"]\n",
    "knn_fit = make_pipeline(speeddating_preprocessor, knn).fit(X, y)\n",
    "\n",
    "# compute the score on validation data\n",
    "acc = knn_fit.score(\n",
    "    speeddating_validation.loc[:, [\"attractive_partner\",  \"sincere_partner\",\"intelligence_partner\", \n",
    "                                   \"humour_partner\", \"shared_interests_partner\"]],\n",
    "    speeddating_validation[\"match\"]\n",
    ")\n",
    "acc"
   ]
  },
  {
   "cell_type": "markdown",
   "id": "e4ef3c55-8a53-4634-98a9-767e9c2d199b",
   "metadata": {},
   "source": [
    "The final combination of all six attributes has the accuracy of 0.813."
   ]
  },
  {
   "cell_type": "markdown",
   "id": "4f5c9a31-aa47-4780-8bf3-4cf41bae878a",
   "metadata": {
    "tags": []
   },
   "source": [
    "#### Conclusion from Exploratory Data Analysis\n",
    "After assessing the cross-validation accuracy estimate, we identified that Combination 4 (Attractiveness, Intelligence, Humour, Sincerity, Shared Interests) with k = 6 gave us a roughly optimal accuracy of 84.5%. The attribute that is not included in this combination 4 is \"Ambition\", and referring back to Figure 5, the Boxplot of the Comparison of match results for Ambition Attribute shows great overlap of boxes. Therefore, ambition rating does not appear to have a great influence on the speed-dating match outcomes, so it will not be included in our final model."
   ]
  },
  {
   "cell_type": "markdown",
   "id": "ee66758f-d0a9-4eb9-a551-41a9b676ba89",
   "metadata": {},
   "source": [
    "#### Confusion Matrix with Combination 4"
   ]
  },
  {
   "cell_type": "markdown",
   "id": "9dfeea71-9112-44a9-adbc-898e374b3169",
   "metadata": {},
   "source": [
    "With our training dataset (speeddating_training), we will now generate a confusion matrix for the classifier, which will show us how many observations of each label were properly and incorrectly identified."
   ]
  },
  {
   "cell_type": "code",
   "execution_count": 23,
   "id": "f2c712d0-5840-4336-bcc5-dece30e8aabd",
   "metadata": {},
   "outputs": [
    {
     "data": {
      "text/plain": [
       "Text(0.5, 1.0, 'Figure 7: Confusion Matrix of Combination 4')"
      ]
     },
     "execution_count": 23,
     "metadata": {},
     "output_type": "execute_result"
    },
    {
     "data": {
      "image/png": "[encoded data removed]",
      "text/plain": [
       "<Figure size 640x480 with 2 Axes>"
      ]
     },
     "metadata": {},
     "output_type": "display_data"
    }
   ],
   "source": [
    "# confusion matrix with selected variables\n",
    "# speeddating_train, speeddating_test = train_test_split(speeddating, test_size=0.25, random_state=123) # set the random state to be 123\n",
    "np.random.seed(1000)\n",
    "\n",
    "speeddating_preprocessor = make_column_transformer(\n",
    "    (StandardScaler(), [\n",
    "        \"attractive_partner\", \"sincere_partner\",\"intelligence_partner\",\"humour_partner\",\"shared_interests_partner\"]),\n",
    ")\n",
    "\n",
    "knn_spec = KNeighborsClassifier(n_neighbors=6)\n",
    "\n",
    "X = speeddating_train[[\n",
    "    \"attractive_partner\", \"sincere_partner\",\"intelligence_partner\",\"humour_partner\",\"shared_interests_partner\"]]\n",
    "y = speeddating_train[\"match\"]\n",
    "\n",
    "speeddating_fit = make_pipeline(speeddating_preprocessor, knn_spec).fit(X, y)\n",
    "\n",
    "speeddating_test_predictions = speeddating_fit.predict(speeddating_test)\n",
    "speeddating_test_predictions = pd.concat(\n",
    "    [\n",
    "        speeddating_test.reset_index(drop=True),\n",
    "        pd.DataFrame(speeddating_test_predictions, columns=[\"predicted\"]),\n",
    "    ],\n",
    "    axis=1,\n",
    ")\n",
    "\n",
    "speeddating_test_predictions\n",
    "\n",
    "\n",
    "speeddating_mat = sklearn.metrics.confusion_matrix(\n",
    "    speeddating_test_predictions[\"match\"],\n",
    "    speeddating_test_predictions[\"predicted\"],\n",
    "    labels=speeddating_fit.classes_,\n",
    ")\n",
    "\n",
    "from sklearn.metrics import ConfusionMatrixDisplay\n",
    "\n",
    "disp = ConfusionMatrixDisplay(\n",
    "    confusion_matrix=speeddating_mat, display_labels=speeddating_fit.classes_\n",
    ")\n",
    "disp.plot()\n",
    "disp.ax_.set_title(\"Figure 7: Confusion Matrix of Combination 4\")"
   ]
  },
  {
   "cell_type": "markdown",
   "id": "d2c2ae72-30d6-475c-b6da-32e882ae0c61",
   "metadata": {},
   "source": [
    "Out of the total 207 samples, 7 were correctly classfied as \"success\" and 168 samples were correctly classified as \"fail\". Therefore, the overall accuracy of the classifier on the test set is about 85%. The classifier mistook 26 observation as fail, and mistook 6 observation as success."
   ]
  },
  {
   "cell_type": "markdown",
   "id": "92eb5ee5-421d-4f6e-b8bb-0e8e922605b9",
   "metadata": {},
   "source": [
    "#### Using the model on the test set"
   ]
  },
  {
   "cell_type": "code",
   "execution_count": 24,
   "id": "4bb7efab-255f-43bd-b95b-c3bdb4e50705",
   "metadata": {},
   "outputs": [
    {
     "data": {
      "text/plain": [
       "0.8193548387096774"
      ]
     },
     "execution_count": 24,
     "metadata": {},
     "output_type": "execute_result"
    }
   ],
   "source": [
    "np.random.seed(1000)\n",
    "\n",
    "speeddating_preprocessor = make_column_transformer(\n",
    "    (StandardScaler(), [\n",
    "        \"attractive_partner\", \"sincere_partner\",\"intelligence_partner\",\"humour_partner\",\"ambition_partner\",\"shared_interests_partner\"]),\n",
    ")\n",
    "\n",
    "knn_spec = KNeighborsClassifier(n_neighbors=6)\n",
    "\n",
    "# fit the model on the sub-training data\n",
    "X = speeddating_test.loc[:, [\"attractive_partner\",  \"sincere_partner\",\"intelligence_partner\", \n",
    "                                 \"humour_partner\",\"ambition_partner\",\"shared_interests_partner\"]]\n",
    "y = speeddating_test[\"match\"]\n",
    "knn_fit = make_pipeline(speeddating_preprocessor, knn_spec).fit(X, y)\n",
    "\n",
    "# compute the score on validation data\n",
    "acc = knn_fit.score(\n",
    "    speeddating_validation.loc[:, [\"attractive_partner\",  \"sincere_partner\",\"intelligence_partner\", \n",
    "                                   \"humour_partner\", \"ambition_partner\",\"shared_interests_partner\"]],\n",
    "    speeddating_validation[\"match\"]\n",
    ")\n",
    "acc"
   ]
  },
  {
   "cell_type": "markdown",
   "id": "180da47a-530b-405d-a787-6b0f200ee596",
   "metadata": {},
   "source": [
    "The accuracy of our model is 82%, and from the confusion matrix we obtained overall accuracy of 85%. "
   ]
  },
  {
   "cell_type": "markdown",
   "id": "96b66435-6140-4e7b-8582-846cb764cc5e",
   "metadata": {},
   "source": [
    "## Discussion"
   ]
  },
  {
   "cell_type": "markdown",
   "id": "c00c657f-2f1f-4f5c-b4be-1aa0957b0402",
   "metadata": {},
   "source": [
    "#### Summary of results:\n",
    "Our final result for the accuracy of our model was 82%, and the model included five out of the six attributes that were given in the dataset. The attributes that were included in the dataset were Attractiveness, Intelligence, Humour, Sincerity, Shared Interests, and the attribute that was removed after our exploratory analysis was Ambition because it did not appear to have a strong affect on the accuracy of our model. Since the majority of the training data (around 82%) belongs to the fail class, the majority classifier will nearly always forecast that a new observation would result in a fail match, which leads to a high final accuracy. However, the model struggles to accurately predict successful dates as shown by the confusion matrix. The accuracy of our K-nearest neighbours classifier was 82%, and according to our critical analysis/ confusion matrix, this classifier has a greater predictability of 85%. Therefore, we think the classifier's performance is adequate for the application. If we had the time and knowledge, we believe this model can be further improved by increasing the model's ability to accurately predict successful dates. This would require more complicated data analysis that we cannot perform with our current knowledge, and it would potentially require more data to make the model as accurate as possible. "
   ]
  },
  {
   "cell_type": "markdown",
   "id": "7f2cec9d-2f65-494f-aab6-f45def93d71e",
   "metadata": {},
   "source": [
    "#### Expectations and impacts of results:"
   ]
  },
  {
   "cell_type": "markdown",
   "id": "24a7f235-1cef-4939-bfae-58ffc32e95b0",
   "metadata": {},
   "source": [
    "These results were what we expected to find. The research that we found showed that attractiveness was an important aspect of attraction on a speed date, which showed in our results. Our results also showed that it’s difficult to successfully predict when two people will match based on attributes, which was also expected because relationships and interactions between people are very complicated in real life, and rely on many more factors than just six (for example, body language, what mood someone is in, the atmosphere of the date, and many, many more). These findings could encourage further research into the different individual attributes that affect relationships between people in settings like speed dating. These findings could also encourage more experienced data analyzers to build a model with an even higher accuracy for this dataset or datasets similar to form a clearer relationship between individual attributes and whether two people match. Another impact of our findings could be to bring attention to which attributes are favoured when individuals are seeking romantic partners. "
   ]
  },
  {
   "cell_type": "markdown",
   "id": "ce0c2a10-02c7-4aad-8c84-a6d0586d96c1",
   "metadata": {},
   "source": [
    "#### Future questions"
   ]
  },
  {
   "cell_type": "markdown",
   "id": "6f20db92-4b5c-4d04-b3ed-892e02362ed0",
   "metadata": {},
   "source": [
    "These findings could lead to future questions as well, for example, are there more variables or traits that can affect whether two people match or not on a speed date? Are certain types of people more likely to favour particular traits over others? Do external factors of a speed date also affect whether or not two people match (for example, the location, lighting, or speed of the date)? "
   ]
  },
  {
   "cell_type": "markdown",
   "id": "5423e538-4ad2-4558-9fc1-4d76fb74c43f",
   "metadata": {},
   "source": [
    "### Sources/ Citation "
   ]
  },
  {
   "cell_type": "markdown",
   "id": "93c466a6-6b03-4215-8668-96ad04cf9c67",
   "metadata": {},
   "source": [
    "Shanhong, L., Guangjian, Z. (2009). What Leads to Romantic Attraction: Similarity, Reciprocity, Security, or Beauty? Evidence From a Speed-Dating Study. Journal of Personality, 77, 933-964. https://onlinelibrary.wiley.com/doi/full/10.1111/j.1467-6494.2009.00570.x\n",
    "\n",
    "Priyadarshini, T. S. (2018). Machine Learning Approaches To Identify Preferences In An Ideal Match Using Speed Dating Data [MSc Research Project, National College of Ireland]. https://norma.ncirl.ie/3417/1/priyadarshinitarikereshivaprasad.pdf \n",
    "\n",
    "Pedersen, U. (2023). Speed Dating. https://www.kaggle.com/datasets/ulrikthygepedersen/speed-dating"
   ]
  },
  {
   "cell_type": "code",
   "execution_count": null,
   "id": "103e5ca6-b3ba-45c9-b362-04477a5b1f77",
   "metadata": {},
   "outputs": [],
   "source": []
  }
 ],
 "metadata": {
  "kernelspec": {
   "display_name": "Python 3 (ipykernel)",
   "language": "python",
   "name": "python3"
  },
  "language_info": {
   "codemirror_mode": {
    "name": "ipython",
    "version": 3
   },
   "file_extension": ".py",
   "mimetype": "text/x-python",
   "name": "python",
   "nbconvert_exporter": "python",
   "pygments_lexer": "ipython3",
   "version": "3.10.8"
  }
 },
 "nbformat": 4,
 "nbformat_minor": 5
}
